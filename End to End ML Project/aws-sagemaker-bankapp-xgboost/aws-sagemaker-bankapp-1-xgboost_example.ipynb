{
 "cells": [
  {
   "cell_type": "markdown",
   "id": "73af9595",
   "metadata": {},
   "source": [
    "1. Import libraries\n",
    "2. Creaate S3 Bucket\n",
    "3. Map training and test data in S3\n",
    "4. Map the path of the models in S3"
   ]
  },
  {
   "cell_type": "code",
   "execution_count": 1,
   "id": "ef357c49",
   "metadata": {},
   "outputs": [],
   "source": [
    "import sagemaker\n",
    "import boto3\n",
    "from sagemaker.session import Session\n",
    "import os"
   ]
  },
  {
   "cell_type": "code",
   "execution_count": 2,
   "id": "5c472957",
   "metadata": {},
   "outputs": [
    {
     "name": "stdout",
     "output_type": "stream",
     "text": [
      "us-east-2\n"
     ]
    }
   ],
   "source": [
    "bucket_name = \"bankapp-1\"\n",
    "\n",
    "my_region = boto3.session.Session().region_name\n",
    "print(my_region)"
   ]
  },
  {
   "cell_type": "code",
   "execution_count": 3,
   "id": "317cc575",
   "metadata": {},
   "outputs": [
    {
     "name": "stdout",
     "output_type": "stream",
     "text": [
      "S3 error:  An error occurred (BucketAlreadyOwnedByYou) when calling the CreateBucket operation: Your previous request to create the named bucket succeeded and you already own it.\n"
     ]
    }
   ],
   "source": [
    "s3 = boto3.resource('s3')\n",
    "try:\n",
    "    if my_region == 'us-east-2':\n",
    "        s3.create_bucket(Bucket=bucket_name, CreateBucketConfiguration={'LocationConstraint': 'us-east-2'})\n",
    "    print('S3 bucket created successfully')\n",
    "except Exception as e:\n",
    "    print('S3 error: ', e)"
   ]
  },
  {
   "cell_type": "code",
   "execution_count": 4,
   "id": "9857df02",
   "metadata": {},
   "outputs": [
    {
     "name": "stdout",
     "output_type": "stream",
     "text": [
      "s3://bankapp-1/xgboost-as-a-built-in-algo/output\n"
     ]
    }
   ],
   "source": [
    "# set an output path where the trained model will be saved\n",
    "prefix = 'xgboost-as-a-built-in-algo'\n",
    "output_path = os.path.join(\"s3://\", bucket_name, prefix, \"output\")\n",
    "print(output_path)"
   ]
  },
  {
   "cell_type": "markdown",
   "id": "965eba35",
   "metadata": {},
   "source": [
    "#### Downloading sample data and Storing in S3"
   ]
  },
  {
   "cell_type": "code",
   "execution_count": 5,
   "id": "7d03cbb9",
   "metadata": {},
   "outputs": [],
   "source": [
    "import pandas as pd\n",
    "import urllib"
   ]
  },
  {
   "cell_type": "code",
   "execution_count": 6,
   "id": "3242cc9a",
   "metadata": {},
   "outputs": [
    {
     "name": "stdout",
     "output_type": "stream",
     "text": [
      "Success: downloaded bank_clean.csv.\n",
      "Success: Data loaded into dataframe\n"
     ]
    }
   ],
   "source": [
    "# download from data online \n",
    "raw_url = \"https://d1.awsstatic.com/tmt/build-train-deploy-machine-learning-model-sagemaker/bank_clean.27f01fbbdf43271788427f3682996ae29ceca05d.csv\"\n",
    "try:\n",
    "    urllib.request.urlretrieve(raw_url, \"bank_clean.csv\")\n",
    "    print('Success: downloaded bank_clean.csv.')\n",
    "except Exception as e:\n",
    "    print('Data load error: ', e)\n",
    "    \n",
    "# load the data\n",
    "try:\n",
    "    df = pd.read_csv(\"./bank_clean.csv\", index_col=0)\n",
    "    print('Success: Data loaded into dataframe')\n",
    "except Exception as e:\n",
    "    print('Dataframe load error: ', e)"
   ]
  },
  {
   "cell_type": "code",
   "execution_count": 7,
   "id": "dbcdca85",
   "metadata": {
    "scrolled": true
   },
   "outputs": [
    {
     "data": {
      "text/html": [
       "<div>\n",
       "<style scoped>\n",
       "    .dataframe tbody tr th:only-of-type {\n",
       "        vertical-align: middle;\n",
       "    }\n",
       "\n",
       "    .dataframe tbody tr th {\n",
       "        vertical-align: top;\n",
       "    }\n",
       "\n",
       "    .dataframe thead th {\n",
       "        text-align: right;\n",
       "    }\n",
       "</style>\n",
       "<table border=\"1\" class=\"dataframe\">\n",
       "  <thead>\n",
       "    <tr style=\"text-align: right;\">\n",
       "      <th></th>\n",
       "      <th>age</th>\n",
       "      <th>campaign</th>\n",
       "      <th>pdays</th>\n",
       "      <th>previous</th>\n",
       "      <th>no_previous_contact</th>\n",
       "      <th>not_working</th>\n",
       "      <th>job_admin.</th>\n",
       "      <th>job_blue-collar</th>\n",
       "      <th>job_entrepreneur</th>\n",
       "      <th>job_housemaid</th>\n",
       "      <th>...</th>\n",
       "      <th>day_of_week_fri</th>\n",
       "      <th>day_of_week_mon</th>\n",
       "      <th>day_of_week_thu</th>\n",
       "      <th>day_of_week_tue</th>\n",
       "      <th>day_of_week_wed</th>\n",
       "      <th>poutcome_failure</th>\n",
       "      <th>poutcome_nonexistent</th>\n",
       "      <th>poutcome_success</th>\n",
       "      <th>y_no</th>\n",
       "      <th>y_yes</th>\n",
       "    </tr>\n",
       "  </thead>\n",
       "  <tbody>\n",
       "    <tr>\n",
       "      <th>0</th>\n",
       "      <td>56</td>\n",
       "      <td>1</td>\n",
       "      <td>999</td>\n",
       "      <td>0</td>\n",
       "      <td>1</td>\n",
       "      <td>0</td>\n",
       "      <td>0</td>\n",
       "      <td>0</td>\n",
       "      <td>0</td>\n",
       "      <td>1</td>\n",
       "      <td>...</td>\n",
       "      <td>0</td>\n",
       "      <td>1</td>\n",
       "      <td>0</td>\n",
       "      <td>0</td>\n",
       "      <td>0</td>\n",
       "      <td>0</td>\n",
       "      <td>1</td>\n",
       "      <td>0</td>\n",
       "      <td>1</td>\n",
       "      <td>0</td>\n",
       "    </tr>\n",
       "    <tr>\n",
       "      <th>1</th>\n",
       "      <td>57</td>\n",
       "      <td>1</td>\n",
       "      <td>999</td>\n",
       "      <td>0</td>\n",
       "      <td>1</td>\n",
       "      <td>0</td>\n",
       "      <td>0</td>\n",
       "      <td>0</td>\n",
       "      <td>0</td>\n",
       "      <td>0</td>\n",
       "      <td>...</td>\n",
       "      <td>0</td>\n",
       "      <td>1</td>\n",
       "      <td>0</td>\n",
       "      <td>0</td>\n",
       "      <td>0</td>\n",
       "      <td>0</td>\n",
       "      <td>1</td>\n",
       "      <td>0</td>\n",
       "      <td>1</td>\n",
       "      <td>0</td>\n",
       "    </tr>\n",
       "    <tr>\n",
       "      <th>2</th>\n",
       "      <td>37</td>\n",
       "      <td>1</td>\n",
       "      <td>999</td>\n",
       "      <td>0</td>\n",
       "      <td>1</td>\n",
       "      <td>0</td>\n",
       "      <td>0</td>\n",
       "      <td>0</td>\n",
       "      <td>0</td>\n",
       "      <td>0</td>\n",
       "      <td>...</td>\n",
       "      <td>0</td>\n",
       "      <td>1</td>\n",
       "      <td>0</td>\n",
       "      <td>0</td>\n",
       "      <td>0</td>\n",
       "      <td>0</td>\n",
       "      <td>1</td>\n",
       "      <td>0</td>\n",
       "      <td>1</td>\n",
       "      <td>0</td>\n",
       "    </tr>\n",
       "    <tr>\n",
       "      <th>3</th>\n",
       "      <td>40</td>\n",
       "      <td>1</td>\n",
       "      <td>999</td>\n",
       "      <td>0</td>\n",
       "      <td>1</td>\n",
       "      <td>0</td>\n",
       "      <td>1</td>\n",
       "      <td>0</td>\n",
       "      <td>0</td>\n",
       "      <td>0</td>\n",
       "      <td>...</td>\n",
       "      <td>0</td>\n",
       "      <td>1</td>\n",
       "      <td>0</td>\n",
       "      <td>0</td>\n",
       "      <td>0</td>\n",
       "      <td>0</td>\n",
       "      <td>1</td>\n",
       "      <td>0</td>\n",
       "      <td>1</td>\n",
       "      <td>0</td>\n",
       "    </tr>\n",
       "    <tr>\n",
       "      <th>4</th>\n",
       "      <td>56</td>\n",
       "      <td>1</td>\n",
       "      <td>999</td>\n",
       "      <td>0</td>\n",
       "      <td>1</td>\n",
       "      <td>0</td>\n",
       "      <td>0</td>\n",
       "      <td>0</td>\n",
       "      <td>0</td>\n",
       "      <td>0</td>\n",
       "      <td>...</td>\n",
       "      <td>0</td>\n",
       "      <td>1</td>\n",
       "      <td>0</td>\n",
       "      <td>0</td>\n",
       "      <td>0</td>\n",
       "      <td>0</td>\n",
       "      <td>1</td>\n",
       "      <td>0</td>\n",
       "      <td>1</td>\n",
       "      <td>0</td>\n",
       "    </tr>\n",
       "  </tbody>\n",
       "</table>\n",
       "<p>5 rows × 61 columns</p>\n",
       "</div>"
      ],
      "text/plain": [
       "   age  campaign  pdays  previous  no_previous_contact  not_working  \\\n",
       "0   56         1    999         0                    1            0   \n",
       "1   57         1    999         0                    1            0   \n",
       "2   37         1    999         0                    1            0   \n",
       "3   40         1    999         0                    1            0   \n",
       "4   56         1    999         0                    1            0   \n",
       "\n",
       "   job_admin.  job_blue-collar  job_entrepreneur  job_housemaid  ...  \\\n",
       "0           0                0                 0              1  ...   \n",
       "1           0                0                 0              0  ...   \n",
       "2           0                0                 0              0  ...   \n",
       "3           1                0                 0              0  ...   \n",
       "4           0                0                 0              0  ...   \n",
       "\n",
       "   day_of_week_fri  day_of_week_mon  day_of_week_thu  day_of_week_tue  \\\n",
       "0                0                1                0                0   \n",
       "1                0                1                0                0   \n",
       "2                0                1                0                0   \n",
       "3                0                1                0                0   \n",
       "4                0                1                0                0   \n",
       "\n",
       "   day_of_week_wed  poutcome_failure  poutcome_nonexistent  poutcome_success  \\\n",
       "0                0                 0                     1                 0   \n",
       "1                0                 0                     1                 0   \n",
       "2                0                 0                     1                 0   \n",
       "3                0                 0                     1                 0   \n",
       "4                0                 0                     1                 0   \n",
       "\n",
       "   y_no  y_yes  \n",
       "0     1      0  \n",
       "1     1      0  \n",
       "2     1      0  \n",
       "3     1      0  \n",
       "4     1      0  \n",
       "\n",
       "[5 rows x 61 columns]"
      ]
     },
     "execution_count": 7,
     "metadata": {},
     "output_type": "execute_result"
    }
   ],
   "source": [
    "df.head()"
   ]
  },
  {
   "cell_type": "markdown",
   "id": "bea1ea0d",
   "metadata": {},
   "source": [
    "#### Train Test Split"
   ]
  },
  {
   "cell_type": "code",
   "execution_count": 8,
   "id": "6a105deb",
   "metadata": {},
   "outputs": [
    {
     "name": "stdout",
     "output_type": "stream",
     "text": [
      "(28831, 61) (12357, 61)\n"
     ]
    }
   ],
   "source": [
    "# Train Test Split \n",
    "# - Separate train and test data and store in S3 for future use\n",
    "import numpy as np\n",
    "train_data, test_data = np.split(df.sample(frac=1, random_state=100), \\\n",
    "                                 [int(0.7 * len(df))])\n",
    "print(train_data.shape, test_data.shape)"
   ]
  },
  {
   "cell_type": "markdown",
   "id": "975f7b06",
   "metadata": {},
   "source": [
    "Note: To use Sagemaker, dependent variable has to be the first feature."
   ]
  },
  {
   "cell_type": "code",
   "execution_count": 9,
   "id": "9b09c8dc",
   "metadata": {},
   "outputs": [],
   "source": [
    "# Save Train and Test data into S3 buckets\n",
    "# Train data\n",
    "\n",
    "# move dependent variable as the first column\n",
    "pd.concat([train_data['y_yes'], train_data.drop(['y_no', 'y_yes'], axis=1)],\n",
    "              axis=1)\\\n",
    "    .to_csv('train.csv', index=False, header=False)"
   ]
  },
  {
   "cell_type": "code",
   "execution_count": 10,
   "id": "107d68cf",
   "metadata": {},
   "outputs": [],
   "source": [
    "# upload train data to S3\n",
    "boto3.Session().resource('s3').Bucket(bucket_name).Object(os.path.join(prefix, 'train', 'train.csv'))\\\n",
    "               .upload_file('train.csv')\n",
    "# create a path to get the data from the S3 bucket\n",
    "s3_train_data_path = os.path.join('s3://', bucket_name, prefix, 'train')\n",
    "s3_input_train = sagemaker.TrainingInput(s3_data=s3_train_data_path, content_type='csv')"
   ]
  },
  {
   "cell_type": "code",
   "execution_count": 11,
   "id": "036dfda2",
   "metadata": {},
   "outputs": [],
   "source": [
    "# Do the same for test data\n",
    "\n",
    "pd.concat([test_data['y_yes'], test_data.drop(['y_yes', 'y_no'], axis=1)], axis=1)\\\n",
    "            .to_csv('test.csv', index=False, header=False)"
   ]
  },
  {
   "cell_type": "code",
   "execution_count": 12,
   "id": "2d9e9a2c",
   "metadata": {},
   "outputs": [],
   "source": [
    "boto3.Session().resource('s3').Bucket(bucket_name).Object(os.path.join(prefix, 'test', 'test.csv'))\\\n",
    "     .upload_file('train.csv')\n",
    "\n",
    "s3_test_data_path = os.path.join('s3://', bucket_name, prefix, 'test')\n",
    "s3_input_test = sagemaker.TrainingInput(s3_data=s3_test_data_path, content_type='csv')"
   ]
  },
  {
   "cell_type": "markdown",
   "id": "5bb695e9",
   "metadata": {},
   "source": [
    "#### Building and Training Xgbost model - Inbuilt Algorithm"
   ]
  },
  {
   "cell_type": "code",
   "execution_count": 13,
   "id": "1c30006c",
   "metadata": {},
   "outputs": [],
   "source": [
    "# this line automatically looks for the XGBoost image URI and builds an XGBoost container\n",
    "# specify the repo_version depnding on your preference.\n",
    "container = sagemaker.image_uris.retrieve('xgboost', \n",
    "                                          boto3.Session().region_name, \n",
    "                                          version='1.3-1')"
   ]
  },
  {
   "cell_type": "code",
   "execution_count": 14,
   "id": "838ea8d9",
   "metadata": {},
   "outputs": [],
   "source": [
    "# initialize hyperparameters\n",
    "\n",
    "\n",
    "hyperparameters = {\n",
    "        \"max_depth\":\"5\",\n",
    "        \"eta\":\"0.2\",\n",
    "        \"gamma\":\"4\",\n",
    "        \"min_child_weight\":\"6\",\n",
    "        \"subsample\":\"0.7\",\n",
    "        \"objective\":\"binary:logistic\",\n",
    "        \"num_round\":\"50\"\n",
    "        }\n"
   ]
  },
  {
   "cell_type": "code",
   "execution_count": 15,
   "id": "a7e6592d",
   "metadata": {},
   "outputs": [],
   "source": [
    "# construct a SageMaker estimator that calls the xgboost-container\n",
    "estimator = sagemaker.estimator.Estimator(image_uri=container, \n",
    "                                          hyperparameters=hyperparameters,\n",
    "                                          role=sagemaker.get_execution_role(),\n",
    "                                          instance_count=1, \n",
    "                                          instance_type='ml.m5.2xlarge', \n",
    "                                          volume_size=5, # 5 GB \n",
    "                                          output_path=output_path,\n",
    "                                         use_spot_instances=True,\n",
    "                                         max_run=300,\n",
    "                                         max_wait=600\n",
    "                                         )"
   ]
  },
  {
   "cell_type": "code",
   "execution_count": 16,
   "id": "522bffc2",
   "metadata": {},
   "outputs": [
    {
     "name": "stdout",
     "output_type": "stream",
     "text": [
      "2022-01-06 19:59:02 Starting - Starting the training job...\n",
      "2022-01-06 19:59:25 Starting - Launching requested ML instancesProfilerReport-1641499142: InProgress\n",
      "...\n",
      "2022-01-06 19:59:52 Starting - Preparing the instances for training.........\n",
      "2022-01-06 20:01:26 Downloading - Downloading input data...\n",
      "2022-01-06 20:02:02 Training - Training image download completed. Training in progress.\n",
      "2022-01-06 20:02:02 Uploading - Uploading generated training model.\u001b[34m[2022-01-06 20:01:58.814 ip-10-0-178-238.us-east-2.compute.internal:1 INFO utils.py:27] RULE_JOB_STOP_SIGNAL_FILENAME: None\u001b[0m\n",
      "\u001b[34m[2022-01-06:20:01:58:INFO] Imported framework sagemaker_xgboost_container.training\u001b[0m\n",
      "\u001b[34m[2022-01-06:20:01:58:INFO] Failed to parse hyperparameter objective value binary:logistic to Json.\u001b[0m\n",
      "\u001b[34mReturning the value itself\u001b[0m\n",
      "\u001b[34m[2022-01-06:20:01:58:INFO] No GPUs detected (normal if no gpus installed)\u001b[0m\n",
      "\u001b[34m[2022-01-06:20:01:58:INFO] Running XGBoost Sagemaker in algorithm mode\u001b[0m\n",
      "\u001b[34m[2022-01-06:20:01:58:INFO] Determined delimiter of CSV input is ','\u001b[0m\n",
      "\u001b[34m[2022-01-06:20:01:58:INFO] Determined delimiter of CSV input is ','\u001b[0m\n",
      "\u001b[34m[2022-01-06:20:01:58:INFO] Determined delimiter of CSV input is ','\u001b[0m\n",
      "\u001b[34m[2022-01-06:20:01:59:INFO] Determined delimiter of CSV input is ','\u001b[0m\n",
      "\u001b[34m[2022-01-06:20:01:59:INFO] Single node training.\u001b[0m\n",
      "\u001b[34m[2022-01-06:20:01:59:INFO] Train matrix has 28831 rows and 59 columns\u001b[0m\n",
      "\u001b[34m[2022-01-06:20:01:59:INFO] Validation matrix has 28831 rows\u001b[0m\n",
      "\u001b[34m[20:01:59] WARNING: ../src/learner.cc:1061: Starting in XGBoost 1.3.0, the default evaluation metric used with the objective 'binary:logistic' was changed from 'error' to 'logloss'. Explicitly set eval_metric if you'd like to restore the old behavior.\u001b[0m\n",
      "\u001b[34m[0]#011train-logloss:0.57426#011validation-logloss:0.57426\u001b[0m\n",
      "\u001b[34m[1]#011train-logloss:0.49515#011validation-logloss:0.49515\u001b[0m\n",
      "\u001b[34m[2]#011train-logloss:0.43949#011validation-logloss:0.43949\u001b[0m\n",
      "\u001b[34m[3]#011train-logloss:0.39956#011validation-logloss:0.39956\u001b[0m\n",
      "\u001b[34m[4]#011train-logloss:0.37051#011validation-logloss:0.37051\u001b[0m\n",
      "\u001b[34m[5]#011train-logloss:0.34946#011validation-logloss:0.34946\u001b[0m\n",
      "\u001b[34m[6]#011train-logloss:0.33375#011validation-logloss:0.33375\u001b[0m\n",
      "\u001b[34m[7]#011train-logloss:0.32218#011validation-logloss:0.32218\u001b[0m\n",
      "\u001b[34m[8]#011train-logloss:0.31289#011validation-logloss:0.31289\u001b[0m\n",
      "\u001b[34m[9]#011train-logloss:0.30635#011validation-logloss:0.30635\u001b[0m\n",
      "\u001b[34m[10]#011train-logloss:0.30151#011validation-logloss:0.30151\u001b[0m\n",
      "\u001b[34m[11]#011train-logloss:0.29710#011validation-logloss:0.29710\u001b[0m\n",
      "\u001b[34m[12]#011train-logloss:0.29413#011validation-logloss:0.29413\u001b[0m\n",
      "\u001b[34m[13]#011train-logloss:0.29188#011validation-logloss:0.29188\u001b[0m\n",
      "\u001b[34m[14]#011train-logloss:0.29006#011validation-logloss:0.29006\u001b[0m\n",
      "\u001b[34m[15]#011train-logloss:0.28838#011validation-logloss:0.28838\u001b[0m\n",
      "\u001b[34m[16]#011train-logloss:0.28705#011validation-logloss:0.28705\u001b[0m\n",
      "\u001b[34m[17]#011train-logloss:0.28619#011validation-logloss:0.28619\u001b[0m\n",
      "\u001b[34m[18]#011train-logloss:0.28553#011validation-logloss:0.28553\u001b[0m\n",
      "\u001b[34m[19]#011train-logloss:0.28484#011validation-logloss:0.28484\u001b[0m\n",
      "\u001b[34m[20]#011train-logloss:0.28398#011validation-logloss:0.28398\u001b[0m\n",
      "\u001b[34m[21]#011train-logloss:0.28333#011validation-logloss:0.28333\u001b[0m\n",
      "\u001b[34m[22]#011train-logloss:0.28302#011validation-logloss:0.28302\u001b[0m\n",
      "\u001b[34m[23]#011train-logloss:0.28265#011validation-logloss:0.28265\u001b[0m\n",
      "\u001b[34m[24]#011train-logloss:0.28220#011validation-logloss:0.28220\u001b[0m\n",
      "\u001b[34m[25]#011train-logloss:0.28180#011validation-logloss:0.28180\u001b[0m\n",
      "\u001b[34m[26]#011train-logloss:0.28157#011validation-logloss:0.28157\u001b[0m\n",
      "\u001b[34m[27]#011train-logloss:0.28128#011validation-logloss:0.28128\u001b[0m\n",
      "\u001b[34m[28]#011train-logloss:0.28086#011validation-logloss:0.28086\u001b[0m\n",
      "\u001b[34m[29]#011train-logloss:0.28059#011validation-logloss:0.28059\u001b[0m\n",
      "\u001b[34m[30]#011train-logloss:0.28059#011validation-logloss:0.28059\u001b[0m\n",
      "\u001b[34m[31]#011train-logloss:0.28059#011validation-logloss:0.28059\u001b[0m\n",
      "\u001b[34m[32]#011train-logloss:0.28025#011validation-logloss:0.28025\u001b[0m\n",
      "\u001b[34m[33]#011train-logloss:0.27980#011validation-logloss:0.27980\u001b[0m\n",
      "\u001b[34m[34]#011train-logloss:0.27949#011validation-logloss:0.27949\u001b[0m\n",
      "\u001b[34m[35]#011train-logloss:0.27941#011validation-logloss:0.27941\u001b[0m\n",
      "\u001b[34m[36]#011train-logloss:0.27872#011validation-logloss:0.27872\u001b[0m\n",
      "\u001b[34m[37]#011train-logloss:0.27872#011validation-logloss:0.27872\u001b[0m\n",
      "\u001b[34m[38]#011train-logloss:0.27843#011validation-logloss:0.27843\u001b[0m\n",
      "\u001b[34m[39]#011train-logloss:0.27829#011validation-logloss:0.27829\u001b[0m\n",
      "\u001b[34m[40]#011train-logloss:0.27811#011validation-logloss:0.27811\u001b[0m\n",
      "\u001b[34m[41]#011train-logloss:0.27770#011validation-logloss:0.27770\u001b[0m\n",
      "\u001b[34m[42]#011train-logloss:0.27751#011validation-logloss:0.27751\u001b[0m\n",
      "\u001b[34m[43]#011train-logloss:0.27730#011validation-logloss:0.27730\u001b[0m\n",
      "\u001b[34m[44]#011train-logloss:0.27727#011validation-logloss:0.27727\u001b[0m\n",
      "\u001b[34m[45]#011train-logloss:0.27714#011validation-logloss:0.27714\u001b[0m\n",
      "\u001b[34m[46]#011train-logloss:0.27702#011validation-logloss:0.27702\u001b[0m\n",
      "\u001b[34m[47]#011train-logloss:0.27679#011validation-logloss:0.27679\u001b[0m\n",
      "\u001b[34m[48]#011train-logloss:0.27648#011validation-logloss:0.27648\u001b[0m\n",
      "\u001b[34m[49]#011train-logloss:0.27644#011validation-logloss:0.27644\u001b[0m\n",
      "\n",
      "2022-01-06 20:02:26 Completed - Training job completed\n",
      "Training seconds: 51\n",
      "Billable seconds: 12\n",
      "Managed Spot Training savings: 76.5%\n"
     ]
    }
   ],
   "source": [
    "estimator.fit({'train': s3_input_train, 'validation': s3_input_test})"
   ]
  },
  {
   "cell_type": "markdown",
   "id": "08601252",
   "metadata": {},
   "source": [
    "#### Deploy Machine Learning Model"
   ]
  },
  {
   "cell_type": "code",
   "execution_count": 17,
   "id": "fb4cf68f",
   "metadata": {},
   "outputs": [
    {
     "name": "stdout",
     "output_type": "stream",
     "text": [
      "------!"
     ]
    }
   ],
   "source": [
    "xgb_predictor = estimator.deploy(initial_instance_count=1, instance_type='ml.m4.xlarge')"
   ]
  },
  {
   "cell_type": "markdown",
   "id": "8f326c3b",
   "metadata": {},
   "source": [
    "#### Prediction of Test Data"
   ]
  },
  {
   "cell_type": "code",
   "execution_count": 24,
   "id": "e9c9e11a",
   "metadata": {},
   "outputs": [
    {
     "name": "stdout",
     "output_type": "stream",
     "text": [
      "(12357,)\n"
     ]
    }
   ],
   "source": [
    "from sagemaker.serializers import CSVSerializer\n",
    "\n",
    "test_data_array = test_data.drop(['y_no', 'y_yes'], axis=1).values\n",
    "xgb_predictor.serializer = CSVSerializer()\n",
    "predictions = xgb_predictor.predict(test_data_array, initial_args={'ContentType': 'text/csv'}).decode('utf-8')\n",
    "predictions_array = np.fromstring(predictions[1:], sep=',')\n",
    "print(predictions_array.shape)"
   ]
  },
  {
   "cell_type": "code",
   "execution_count": 25,
   "id": "ef4ef233",
   "metadata": {},
   "outputs": [
    {
     "data": {
      "text/plain": [
       "array([0.33076534, 0.32295951, 0.09651386, ..., 0.04343579, 0.06987029,\n",
       "       0.42867687])"
      ]
     },
     "execution_count": 25,
     "metadata": {},
     "output_type": "execute_result"
    }
   ],
   "source": [
    "predictions_array"
   ]
  },
  {
   "cell_type": "code",
   "execution_count": 26,
   "id": "33d85370",
   "metadata": {},
   "outputs": [
    {
     "name": "stdout",
     "output_type": "stream",
     "text": [
      "\n",
      "Overall Classification Rate: 89.9%\n",
      "\n",
      "Predicted      No Purchase    Purchase\n",
      "Observed\n",
      "No Purchase    91% (10821)    40% (193)\n",
      "Purchase        9% (1056)     60% (287) \n",
      "\n"
     ]
    }
   ],
   "source": [
    "confusion_matrix = pd.crosstab(index=test_data['y_yes'], columns=np.round(predictions_array), \n",
    "                              rownames=['Observed'], colnames=['Predicted'])\n",
    "\n",
    "true_n = confusion_matrix.iloc[0, 0]\n",
    "false_n = confusion_matrix.iloc[1, 0]\n",
    "true_p = confusion_matrix.iloc[1, 1]\n",
    "false_p = confusion_matrix.iloc[0, 1]\n",
    "accuracy = (true_p + true_n) / (true_p + true_n + false_p + false_n) *100\n",
    "print(\"\\n{0:<20}{1:<4.1f}%\\n\".format(\"Overall Classification Rate: \", accuracy))\n",
    "print(\"{0:<15}{1:<15}{2:>8}\".format(\"Predicted\", \"No Purchase\", \"Purchase\"))\n",
    "print(\"Observed\")\n",
    "print(\"{0:<15}{1:<2.0f}% ({2:<}){3:>6.0f}% ({4:<})\".format(\"No Purchase\", true_n/(true_n+false_n)*100, true_n, false_p/(true_p+false_p)*100, false_p))\n",
    "print(\"{0:<16}{1:<1.0f}% ({2:<}){3:>7.0f}% ({4:<}) \\n\".format(\"Purchase\", false_n/(true_n+false_n)*100, false_n, true_p/(true_p+false_p)*100, true_p))\n"
   ]
  },
  {
   "cell_type": "markdown",
   "id": "4a491476",
   "metadata": {},
   "source": [
    "#### Deleting The Endpoints"
   ]
  },
  {
   "cell_type": "code",
   "execution_count": 32,
   "id": "b9eb6fa9",
   "metadata": {},
   "outputs": [
    {
     "name": "stderr",
     "output_type": "stream",
     "text": [
      "The function delete_endpoint is a no-op in sagemaker>=2.\n",
      "See: https://sagemaker.readthedocs.io/en/stable/v2.html for details.\n"
     ]
    },
    {
     "data": {
      "text/plain": [
       "[{'ResponseMetadata': {'RequestId': '31EF48KRQGY67ZAY',\n",
       "   'HostId': 'v5VvjxPPugYjpFVVN7M7FDiWXGZrZj0RBlmTpTLANM3JxgJkYwb5XZGMNSf2/m25YHhywcEmMh8=',\n",
       "   'HTTPStatusCode': 200,\n",
       "   'HTTPHeaders': {'x-amz-id-2': 'v5VvjxPPugYjpFVVN7M7FDiWXGZrZj0RBlmTpTLANM3JxgJkYwb5XZGMNSf2/m25YHhywcEmMh8=',\n",
       "    'x-amz-request-id': '31EF48KRQGY67ZAY',\n",
       "    'date': 'Thu, 06 Jan 2022 20:37:41 GMT',\n",
       "    'content-type': 'application/xml',\n",
       "    'transfer-encoding': 'chunked',\n",
       "    'server': 'AmazonS3',\n",
       "    'connection': 'close'},\n",
       "   'RetryAttempts': 0},\n",
       "  'Deleted': [{'Key': 'xgboost-as-a-built-in-algo/output/sagemaker-xgboost-2022-01-06-19-59-02-435/rule-output/ProfilerReport-1641499142/profiler-output/profiler-reports/GPUMemoryIncrease.json'},\n",
       "   {'Key': 'xgboost-as-a-built-in-algo/output/sagemaker-xgboost-2022-01-06-03-09-15-338/profiler-output/system/training_job_end.ts'},\n",
       "   {'Key': 'xgboost-as-a-built-in-algo/output/sagemaker-xgboost-2022-01-06-19-57-35-877/rule-output/ProfilerReport-1641499055/profiler-output/profiler-reports/StepOutlier.json'},\n",
       "   {'Key': 'xgboost-as-a-built-in-algo/output/sagemaker-xgboost-2022-01-06-19-57-35-877/rule-output/ProfilerReport-1641499055/profiler-output/profiler-reports/LoadBalancing.json'},\n",
       "   {'Key': 'xgboost-as-a-built-in-algo/output/sagemaker-xgboost-2022-01-06-19-57-35-877/rule-output/ProfilerReport-1641499055/profiler-output/profiler-reports/LowGPUUtilization.json'},\n",
       "   {'Key': 'xgboost-as-a-built-in-algo/output/sagemaker-xgboost-2022-01-06-03-09-15-338/rule-output/ProfilerReport-1641438555/profiler-output/profiler-report.html'},\n",
       "   {'Key': 'xgboost-as-a-built-in-algo/output/sagemaker-xgboost-2022-01-06-03-09-15-338/rule-output/ProfilerReport-1641438555/profiler-output/profiler-reports/OverallSystemUsage.json'},\n",
       "   {'Key': 'xgboost-as-a-built-in-algo/output/sagemaker-xgboost-2022-01-06-19-57-35-877/profiler-output/system/incremental/2022010619/1641499140.algo-1.json'},\n",
       "   {'Key': 'xgboost-as-a-built-in-algo/output/sagemaker-xgboost-2022-01-06-19-59-02-435/profiler-output/framework/training_job_end.ts'},\n",
       "   {'Key': 'xgboost-as-a-built-in-algo/output/sagemaker-xgboost-2022-01-06-19-10-57-098/profiler-output/system/training_job_end.ts'},\n",
       "   {'Key': 'xgboost-as-a-built-in-algo/output/sagemaker-xgboost-2022-01-06-19-55-26-466/rule-output/ProfilerReport-1641498926/profiler-output/profiler-reports/GPUMemoryIncrease.json'},\n",
       "   {'Key': 'xgboost-as-a-built-in-algo/output/sagemaker-xgboost-2022-01-06-19-55-26-466/rule-output/ProfilerReport-1641498926/profiler-output/profiler-reports/LowGPUUtilization.json'},\n",
       "   {'Key': 'xgboost-as-a-built-in-algo/output/sagemaker-xgboost-2022-01-06-19-59-02-435/rule-output/ProfilerReport-1641499142/profiler-output/profiler-reports/IOBottleneck.json'},\n",
       "   {'Key': 'xgboost-as-a-built-in-algo/output/sagemaker-xgboost-2022-01-06-19-57-35-877/rule-output/ProfilerReport-1641499055/profiler-output/profiler-reports/OverallSystemUsage.json'},\n",
       "   {'Key': 'xgboost-as-a-built-in-algo/output/sagemaker-xgboost-2022-01-06-03-09-15-338/rule-output/ProfilerReport-1641438555/profiler-output/profiler-reports/LoadBalancing.json'},\n",
       "   {'Key': 'xgboost-as-a-built-in-algo/output/sagemaker-xgboost-2022-01-06-19-55-26-466/rule-output/ProfilerReport-1641498926/profiler-output/profiler-reports/OverallFrameworkMetrics.json'},\n",
       "   {'Key': 'xgboost-as-a-built-in-algo/output/sagemaker-xgboost-2022-01-06-03-09-15-338/rule-output/ProfilerReport-1641438555/profiler-output/profiler-reports/LowGPUUtilization.json'},\n",
       "   {'Key': 'xgboost-as-a-built-in-algo/output/sagemaker-xgboost-2022-01-06-19-55-26-466/profiler-output/system/incremental/2022010619/1641499020.algo-1.json'},\n",
       "   {'Key': 'xgboost-as-a-built-in-algo/output/sagemaker-xgboost-2022-01-06-19-57-35-877/rule-output/ProfilerReport-1641499055/profiler-output/profiler-report.html'},\n",
       "   {'Key': 'xgboost-as-a-built-in-algo/output/sagemaker-xgboost-2022-01-06-03-09-15-338/rule-output/ProfilerReport-1641438555/profiler-output/profiler-reports/Dataloader.json'},\n",
       "   {'Key': 'xgboost-as-a-built-in-algo/output/sagemaker-xgboost-2022-01-06-19-55-26-466/rule-output/ProfilerReport-1641498926/profiler-output/profiler-reports/LoadBalancing.json'},\n",
       "   {'Key': 'xgboost-as-a-built-in-algo/output/sagemaker-xgboost-2022-01-06-03-09-15-338/rule-output/ProfilerReport-1641438555/profiler-output/profiler-reports/StepOutlier.json'},\n",
       "   {'Key': 'xgboost-as-a-built-in-algo/output/sagemaker-xgboost-2022-01-06-19-59-02-435/profiler-output/system/incremental/2022010620/1641499260.algo-1.json'},\n",
       "   {'Key': 'xgboost-as-a-built-in-algo/output/sagemaker-xgboost-2022-01-06-19-59-02-435/rule-output/ProfilerReport-1641499142/profiler-output/profiler-reports/OverallSystemUsage.json'},\n",
       "   {'Key': 'xgboost-as-a-built-in-algo/output/sagemaker-xgboost-2022-01-06-19-55-26-466/rule-output/ProfilerReport-1641498926/profiler-output/profiler-report.ipynb'},\n",
       "   {'Key': 'xgboost-as-a-built-in-algo/output/sagemaker-xgboost-2022-01-06-19-57-35-877/rule-output/ProfilerReport-1641499055/profiler-output/profiler-reports/BatchSize.json'},\n",
       "   {'Key': 'xgboost-as-a-built-in-algo/output/sagemaker-xgboost-2022-01-06-19-57-35-877/rule-output/ProfilerReport-1641499055/profiler-output/profiler-reports/MaxInitializationTime.json'},\n",
       "   {'Key': 'xgboost-as-a-built-in-algo/output/sagemaker-xgboost-2022-01-06-03-09-15-338/rule-output/ProfilerReport-1641438555/profiler-output/profiler-reports/MaxInitializationTime.json'},\n",
       "   {'Key': 'xgboost-as-a-built-in-algo/output/sagemaker-xgboost-2022-01-06-19-59-02-435/rule-output/ProfilerReport-1641499142/profiler-output/profiler-reports/CPUBottleneck.json'},\n",
       "   {'Key': 'xgboost-as-a-built-in-algo/output/sagemaker-xgboost-2022-01-06-19-59-02-435/rule-output/ProfilerReport-1641499142/profiler-output/profiler-reports/OverallFrameworkMetrics.json'},\n",
       "   {'Key': 'xgboost-as-a-built-in-algo/test/test.csv'},\n",
       "   {'Key': 'xgboost-as-a-built-in-algo/output/sagemaker-xgboost-2022-01-06-19-55-26-466/rule-output/ProfilerReport-1641498926/profiler-output/profiler-reports/MaxInitializationTime.json'},\n",
       "   {'Key': 'xgboost-as-a-built-in-algo/output/sagemaker-xgboost-2022-01-06-19-57-35-877/rule-output/ProfilerReport-1641499055/profiler-output/profiler-reports/OverallFrameworkMetrics.json'},\n",
       "   {'Key': 'xgboost-as-a-built-in-algo/output/sagemaker-xgboost-2022-01-06-19-59-02-435/rule-output/ProfilerReport-1641499142/profiler-output/profiler-reports/BatchSize.json'},\n",
       "   {'Key': 'xgboost-as-a-built-in-algo/output/sagemaker-xgboost-2022-01-06-19-57-35-877/rule-output/ProfilerReport-1641499055/profiler-output/profiler-report.ipynb'},\n",
       "   {'Key': 'xgboost-as-a-built-in-algo/output/sagemaker-xgboost-2022-01-06-19-10-57-098/output/model.tar.gz'},\n",
       "   {'Key': 'xgboost-as-a-built-in-algo/output/sagemaker-xgboost-2022-01-06-19-55-26-466/profiler-output/system/incremental/2022010619/1641499080.algo-1.json'},\n",
       "   {'Key': 'xgboost-as-a-built-in-algo/output/sagemaker-xgboost-2022-01-06-03-09-15-338/rule-output/ProfilerReport-1641438555/profiler-output/profiler-reports/CPUBottleneck.json'},\n",
       "   {'Key': 'xgboost-as-a-built-in-algo/output/sagemaker-xgboost-2022-01-06-19-55-26-466/rule-output/ProfilerReport-1641498926/profiler-output/profiler-reports/IOBottleneck.json'},\n",
       "   {'Key': 'xgboost-as-a-built-in-algo/output/sagemaker-xgboost-2022-01-06-03-09-15-338/rule-output/ProfilerReport-1641438555/profiler-output/profiler-reports/BatchSize.json'},\n",
       "   {'Key': 'xgboost-as-a-built-in-algo/output/sagemaker-xgboost-2022-01-06-19-57-35-877/profiler-output/framework/training_job_end.ts'},\n",
       "   {'Key': 'xgboost-as-a-built-in-algo/output/sagemaker-xgboost-2022-01-06-19-57-35-877/rule-output/ProfilerReport-1641499055/profiler-output/profiler-reports/GPUMemoryIncrease.json'},\n",
       "   {'Key': 'xgboost-as-a-built-in-algo/output/sagemaker-xgboost-2022-01-06-19-59-02-435/rule-output/ProfilerReport-1641499142/profiler-output/profiler-reports/Dataloader.json'},\n",
       "   {'Key': 'xgboost-as-a-built-in-algo/output/sagemaker-xgboost-2022-01-06-19-57-35-877/rule-output/ProfilerReport-1641499055/profiler-output/profiler-reports/Dataloader.json'},\n",
       "   {'Key': 'xgboost-as-a-built-in-algo/output/sagemaker-xgboost-2022-01-06-19-59-02-435/rule-output/ProfilerReport-1641499142/profiler-output/profiler-reports/LowGPUUtilization.json'},\n",
       "   {'Key': 'xgboost-as-a-built-in-algo/output/sagemaker-xgboost-2022-01-06-19-55-26-466/output/model.tar.gz'},\n",
       "   {'Key': 'xgboost-as-a-built-in-algo/output/sagemaker-xgboost-2022-01-06-03-09-15-338/profiler-output/system/incremental/2022010603/1641438720.algo-1.json'},\n",
       "   {'Key': 'xgboost-as-a-built-in-algo/output/sagemaker-xgboost-2022-01-06-19-59-02-435/rule-output/ProfilerReport-1641499142/profiler-output/profiler-reports/MaxInitializationTime.json'},\n",
       "   {'Key': 'xgboost-as-a-built-in-algo/output/sagemaker-xgboost-2022-01-06-03-09-15-338/rule-output/ProfilerReport-1641438555/profiler-output/profiler-reports/IOBottleneck.json'},\n",
       "   {'Key': 'xgboost-as-a-built-in-algo/output/sagemaker-xgboost-2022-01-06-19-55-26-466/profiler-output/system/training_job_end.ts'},\n",
       "   {'Key': 'xgboost-as-a-built-in-algo/output/sagemaker-xgboost-2022-01-06-19-59-02-435/output/model.tar.gz'},\n",
       "   {'Key': 'xgboost-as-a-built-in-algo/output/sagemaker-xgboost-2022-01-06-19-59-02-435/profiler-output/system/training_job_end.ts'},\n",
       "   {'Key': 'xgboost-as-a-built-in-algo/output/sagemaker-xgboost-2022-01-06-03-09-15-338/rule-output/ProfilerReport-1641438555/profiler-output/profiler-reports/GPUMemoryIncrease.json'},\n",
       "   {'Key': 'xgboost-as-a-built-in-algo/output/sagemaker-xgboost-2022-01-06-19-59-02-435/rule-output/ProfilerReport-1641499142/profiler-output/profiler-report.html'},\n",
       "   {'Key': 'xgboost-as-a-built-in-algo/output/sagemaker-xgboost-2022-01-06-19-57-35-877/profiler-output/system/training_job_end.ts'},\n",
       "   {'Key': 'xgboost-as-a-built-in-algo/output/sagemaker-xgboost-2022-01-06-03-09-15-338/output/model.tar.gz'},\n",
       "   {'Key': 'xgboost-as-a-built-in-algo/output/sagemaker-xgboost-2022-01-06-19-57-35-877/profiler-output/system/incremental/2022010620/1641499200.algo-1.json'},\n",
       "   {'Key': 'xgboost-as-a-built-in-algo/output/sagemaker-xgboost-2022-01-06-03-09-15-338/profiler-output/framework/training_job_end.ts'},\n",
       "   {'Key': 'xgboost-as-a-built-in-algo/output/sagemaker-xgboost-2022-01-06-19-55-26-466/profiler-output/framework/training_job_end.ts'},\n",
       "   {'Key': 'xgboost-as-a-built-in-algo/output/sagemaker-xgboost-2022-01-06-03-09-15-338/rule-output/ProfilerReport-1641438555/profiler-output/profiler-reports/OverallFrameworkMetrics.json'},\n",
       "   {'Key': 'xgboost-as-a-built-in-algo/output/sagemaker-xgboost-2022-01-06-19-10-57-098/profiler-output/system/incremental/2022010619/1641496380.algo-1.json'},\n",
       "   {'Key': 'xgboost-as-a-built-in-algo/output/sagemaker-xgboost-2022-01-06-19-55-26-466/rule-output/ProfilerReport-1641498926/profiler-output/profiler-reports/BatchSize.json'},\n",
       "   {'Key': 'xgboost-as-a-built-in-algo/output/sagemaker-xgboost-2022-01-06-19-55-26-466/rule-output/ProfilerReport-1641498926/profiler-output/profiler-report.html'},\n",
       "   {'Key': 'xgboost-as-a-built-in-algo/output/sagemaker-xgboost-2022-01-06-19-55-26-466/rule-output/ProfilerReport-1641498926/profiler-output/profiler-reports/Dataloader.json'},\n",
       "   {'Key': 'xgboost-as-a-built-in-algo/output/sagemaker-xgboost-2022-01-06-19-59-02-435/profiler-output/system/incremental/2022010620/1641499320.algo-1.json'},\n",
       "   {'Key': 'xgboost-as-a-built-in-algo/output/sagemaker-xgboost-2022-01-06-19-55-26-466/rule-output/ProfilerReport-1641498926/profiler-output/profiler-reports/OverallSystemUsage.json'},\n",
       "   {'Key': 'xgboost-as-a-built-in-algo/output/sagemaker-xgboost-2022-01-06-19-59-02-435/rule-output/ProfilerReport-1641499142/profiler-output/profiler-report.ipynb'},\n",
       "   {'Key': 'xgboost-as-a-built-in-algo/output/sagemaker-xgboost-2022-01-06-19-57-35-877/rule-output/ProfilerReport-1641499055/profiler-output/profiler-reports/IOBottleneck.json'},\n",
       "   {'Key': 'xgboost-as-a-built-in-algo/output/sagemaker-xgboost-2022-01-06-19-59-02-435/rule-output/ProfilerReport-1641499142/profiler-output/profiler-reports/LoadBalancing.json'},\n",
       "   {'Key': 'xgboost-as-a-built-in-algo/output/sagemaker-xgboost-2022-01-06-03-09-15-338/rule-output/ProfilerReport-1641438555/profiler-output/profiler-report.ipynb'},\n",
       "   {'Key': 'xgboost-as-a-built-in-algo/output/sagemaker-xgboost-2022-01-06-19-57-35-877/rule-output/ProfilerReport-1641499055/profiler-output/profiler-reports/CPUBottleneck.json'},\n",
       "   {'Key': 'xgboost-as-a-built-in-algo/output/sagemaker-xgboost-2022-01-06-03-05-14-370/profiler-output/system/incremental/2022010603/1641438420.algo-1.json'},\n",
       "   {'Key': 'xgboost-as-a-built-in-algo/output/sagemaker-xgboost-2022-01-06-03-09-15-338/profiler-output/system/incremental/2022010603/1641438660.algo-1.json'},\n",
       "   {'Key': 'xgboost-as-a-built-in-algo/output/sagemaker-xgboost-2022-01-06-19-59-02-435/rule-output/ProfilerReport-1641499142/profiler-output/profiler-reports/StepOutlier.json'},\n",
       "   {'Key': 'xgboost-as-a-built-in-algo/output/sagemaker-xgboost-2022-01-06-19-57-35-877/output/model.tar.gz'},\n",
       "   {'Key': 'xgboost-as-a-built-in-algo/train/train.csv'},\n",
       "   {'Key': 'xgboost-as-a-built-in-algo/output/sagemaker-xgboost-2022-01-06-19-10-57-098/profiler-output/framework/training_job_end.ts'},\n",
       "   {'Key': 'xgboost-as-a-built-in-algo/output/sagemaker-xgboost-2022-01-06-19-55-26-466/rule-output/ProfilerReport-1641498926/profiler-output/profiler-reports/StepOutlier.json'},\n",
       "   {'Key': 'xgboost-as-a-built-in-algo/output/sagemaker-xgboost-2022-01-06-03-00-11-525/profiler-output/system/incremental/2022010603/1641438120.algo-1.json'},\n",
       "   {'Key': 'xgboost-as-a-built-in-algo/output/sagemaker-xgboost-2022-01-06-19-55-26-466/rule-output/ProfilerReport-1641498926/profiler-output/profiler-reports/CPUBottleneck.json'}]}]"
      ]
     },
     "execution_count": 32,
     "metadata": {},
     "output_type": "execute_result"
    }
   ],
   "source": [
    "estimator.delete_endpoint()\n",
    "# sagemaker.predictor.Predictor.delete_endpoint(xgb_predictor.endpoint)\n",
    "boto3.resource('s3').Bucket(bucket_name).objects.all().delete()"
   ]
  }
 ],
 "metadata": {
  "kernelspec": {
   "display_name": "conda_python3",
   "language": "python",
   "name": "conda_python3"
  },
  "language_info": {
   "codemirror_mode": {
    "name": "ipython",
    "version": 3
   },
   "file_extension": ".py",
   "mimetype": "text/x-python",
   "name": "python",
   "nbconvert_exporter": "python",
   "pygments_lexer": "ipython3",
   "version": "3.6.13"
  }
 },
 "nbformat": 4,
 "nbformat_minor": 5
}
