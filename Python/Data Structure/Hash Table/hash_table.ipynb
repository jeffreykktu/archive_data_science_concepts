{
 "cells": [
  {
   "cell_type": "markdown",
   "id": "different-individual",
   "metadata": {},
   "source": [
    "Lesson: https://www.youtube.com/watch?v=54iv1si4YCM&list=PLeo1K3hjS3uu_n_a__MI_KktGTLYopZ12&index=6\n",
    "\n",
    "Code: https://github.com/codebasics/data-structures-algorithms-python/blob/master/data_structures/4_HashTable_2_Collisions/4_hash_table_collision_handling.ipynb\n",
    "\n",
    "Exercise: https://github.com/codebasics/data-structures-algorithms-python/blob/master/data_structures/4_HashTable_2_Collisions/4_hash_table_exercise.md\n"
   ]
  },
  {
   "cell_type": "code",
   "execution_count": 26,
   "id": "renewable-doctor",
   "metadata": {},
   "outputs": [],
   "source": [
    "class HashTable:\n",
    "    def __init__(self):\n",
    "        self.MAX = 10 # 10 slots in the hash table\n",
    "        self.arr = [None for _ in range(self.MAX)]\n",
    "    \n",
    "    def get_hash(self, key):\n",
    "        hash = 0 \n",
    "        for character in key:\n",
    "            hash += ord(character) \n",
    "        return hash % self.MAX\n",
    "    \n",
    "    def __setitem__(self, key, val):\n",
    "        h = self.get_hash(key)\n",
    "        self.arr[h] = val\n",
    "        \n",
    "        \n",
    "    def __getitem__(self, key):\n",
    "        h = self.get_hash(key)\n",
    "        return self.arr[h]"
   ]
  },
  {
   "cell_type": "code",
   "execution_count": 12,
   "id": "voluntary-blogger",
   "metadata": {},
   "outputs": [],
   "source": [
    "t = HashTable()\n",
    "t[\"march 6\"] = 310\n",
    "t[\"march 7\"] = 420\n",
    "t[\"march 8\"] = 67\n",
    "t[\"march 17\"] = 63457"
   ]
  },
  {
   "cell_type": "code",
   "execution_count": 13,
   "id": "smoking-therapy",
   "metadata": {},
   "outputs": [
    {
     "data": {
      "text/plain": [
       "63457"
      ]
     },
     "execution_count": 13,
     "metadata": {},
     "output_type": "execute_result"
    }
   ],
   "source": [
    "t[\"march 6\"]\n"
   ]
  },
  {
   "cell_type": "code",
   "execution_count": 15,
   "id": "southeast-element",
   "metadata": {},
   "outputs": [
    {
     "data": {
      "text/plain": [
       "[420, 67, None, None, None, None, None, None, None, 63457]"
      ]
     },
     "execution_count": 15,
     "metadata": {},
     "output_type": "execute_result"
    }
   ],
   "source": [
    "t.arr"
   ]
  },
  {
   "cell_type": "code",
   "execution_count": 11,
   "id": "dental-smart",
   "metadata": {},
   "outputs": [
    {
     "name": "stdout",
     "output_type": "stream",
     "text": [
      "<__main__.HashTable object at 0x7fba385f31c0>\n"
     ]
    }
   ],
   "source": [
    "print(t)"
   ]
  },
  {
   "cell_type": "markdown",
   "id": "endless-serve",
   "metadata": {},
   "source": [
    "# Collision Handling with Chaining"
   ]
  },
  {
   "cell_type": "code",
   "execution_count": 19,
   "id": "desperate-liberia",
   "metadata": {},
   "outputs": [],
   "source": [
    "class HashTable:\n",
    "    def __init__(self):\n",
    "        self.MAX = 10 # 10 slots in the hash table\n",
    "        self.arr = [[] for _ in range(self.MAX)]\n",
    "    \n",
    "    def get_hash(self, key):\n",
    "        hash = 0 \n",
    "        for character in key:\n",
    "            hash += ord(character) \n",
    "        return hash % self.MAX\n",
    "    \n",
    "    def __setitem__(self, key, val):\n",
    "        h = self.get_hash(key)\n",
    "        found = False\n",
    "        for index, element in enumerate(self.arr[h]):\n",
    "            if key == element[0]:\n",
    "                self.arr[h][index] = (key, val)\n",
    "                found = True\n",
    "        if not found:\n",
    "            self.arr[h].append((key, val))\n",
    "                \n",
    "        \n",
    "    def __getitem__(self, key):\n",
    "        h = self.get_hash(key)\n",
    "        for element in self.arr[h]:\n",
    "            if element[0] == key:\n",
    "                return element[1]\n",
    "            \n",
    "    def __delitem__(self, key):\n",
    "        h = self.get_hash(key)\n",
    "        for index, element in enumerate(self.arr[h]):\n",
    "            if key == element[0]:\n",
    "                del self.arr[h][index]"
   ]
  },
  {
   "cell_type": "code",
   "execution_count": 20,
   "id": "deluxe-uganda",
   "metadata": {},
   "outputs": [],
   "source": [
    "t = HashTable()\n",
    "t[\"march 6\"] = 310\n",
    "t[\"march 7\"] = 420\n",
    "t[\"march 8\"] = 67\n",
    "t[\"march 17\"] = 63457"
   ]
  },
  {
   "cell_type": "code",
   "execution_count": 21,
   "id": "complex-antigua",
   "metadata": {},
   "outputs": [
    {
     "data": {
      "text/plain": [
       "310"
      ]
     },
     "execution_count": 21,
     "metadata": {},
     "output_type": "execute_result"
    }
   ],
   "source": [
    "t[\"march 6\"]\n"
   ]
  },
  {
   "cell_type": "code",
   "execution_count": 22,
   "id": "balanced-patch",
   "metadata": {},
   "outputs": [
    {
     "data": {
      "text/plain": [
       "63457"
      ]
     },
     "execution_count": 22,
     "metadata": {},
     "output_type": "execute_result"
    }
   ],
   "source": [
    "t[\"march 17\"]\n"
   ]
  },
  {
   "cell_type": "code",
   "execution_count": 23,
   "id": "vulnerable-material",
   "metadata": {},
   "outputs": [
    {
     "data": {
      "text/plain": [
       "[[('march 7', 420)],\n",
       " [('march 8', 67)],\n",
       " [],\n",
       " [],\n",
       " [],\n",
       " [],\n",
       " [],\n",
       " [],\n",
       " [],\n",
       " [('march 6', 310), ('march 17', 63457)]]"
      ]
     },
     "execution_count": 23,
     "metadata": {},
     "output_type": "execute_result"
    }
   ],
   "source": [
    "t.arr"
   ]
  },
  {
   "cell_type": "code",
   "execution_count": 24,
   "id": "declared-economy",
   "metadata": {},
   "outputs": [],
   "source": [
    "del t[\"march 6\"]"
   ]
  },
  {
   "cell_type": "code",
   "execution_count": 25,
   "id": "final-liquid",
   "metadata": {},
   "outputs": [
    {
     "data": {
      "text/plain": [
       "[[('march 7', 420)],\n",
       " [('march 8', 67)],\n",
       " [],\n",
       " [],\n",
       " [],\n",
       " [],\n",
       " [],\n",
       " [],\n",
       " [],\n",
       " [('march 17', 63457)]]"
      ]
     },
     "execution_count": 25,
     "metadata": {},
     "output_type": "execute_result"
    }
   ],
   "source": [
    "t.arr"
   ]
  },
  {
   "cell_type": "markdown",
   "id": "applicable-minutes",
   "metadata": {},
   "source": [
    "# Exercise 1"
   ]
  },
  {
   "cell_type": "code",
   "execution_count": 55,
   "id": "streaming-reconstruction",
   "metadata": {},
   "outputs": [],
   "source": [
    "arr = []\n",
    "ex_path = \"./nyc_weather.csv\"\n",
    "\n",
    "with open(ex_path) as f:\n",
    "    for line in f:\n",
    "        tokens = line.split(\",\")\n",
    "        try:\n",
    "            temp = int(tokens[1])\n",
    "            arr.append(temp)\n",
    "        except:\n",
    "            pass"
   ]
  },
  {
   "cell_type": "code",
   "execution_count": 49,
   "id": "hazardous-beatles",
   "metadata": {},
   "outputs": [
    {
     "data": {
      "text/plain": [
       "[27, 31, 23, 34, 37, 38, 29, 30, 35, 30]"
      ]
     },
     "execution_count": 49,
     "metadata": {},
     "output_type": "execute_result"
    }
   ],
   "source": [
    "arr"
   ]
  },
  {
   "cell_type": "markdown",
   "id": "original-hayes",
   "metadata": {},
   "source": [
    "## Average temp in first week of Jan"
   ]
  },
  {
   "cell_type": "code",
   "execution_count": 53,
   "id": "optimum-combining",
   "metadata": {},
   "outputs": [
    {
     "data": {
      "text/plain": [
       "31.285714285714285"
      ]
     },
     "execution_count": 53,
     "metadata": {},
     "output_type": "execute_result"
    }
   ],
   "source": [
    "avg = sum(arr[:7])/7\n",
    "avg"
   ]
  },
  {
   "cell_type": "markdown",
   "id": "superb-bankruptcy",
   "metadata": {},
   "source": [
    "## Max Temperature in the first 10 days"
   ]
  },
  {
   "cell_type": "code",
   "execution_count": 54,
   "id": "according-philip",
   "metadata": {},
   "outputs": [
    {
     "data": {
      "text/plain": [
       "38"
      ]
     },
     "execution_count": 54,
     "metadata": {},
     "output_type": "execute_result"
    }
   ],
   "source": [
    "max_temp_10 = max(arr[:10])\n",
    "max_temp_10"
   ]
  },
  {
   "cell_type": "code",
   "execution_count": 57,
   "id": "sharp-zambia",
   "metadata": {},
   "outputs": [
    {
     "data": {
      "text/plain": [
       "{'Jan 1': 27,\n",
       " 'Jan 2': 31,\n",
       " 'Jan 3': 23,\n",
       " 'Jan 4': 34,\n",
       " 'Jan 5': 37,\n",
       " 'Jan 6': 38,\n",
       " 'Jan 7': 29,\n",
       " 'Jan 8': 30,\n",
       " 'Jan 9': 35,\n",
       " 'Jan 10': 30}"
      ]
     },
     "execution_count": 57,
     "metadata": {},
     "output_type": "execute_result"
    }
   ],
   "source": [
    "dict_ = {}\n",
    "ex_path = \"./nyc_weather.csv\"\n",
    "\n",
    "with open(ex_path) as f:\n",
    "    f.readline()\n",
    "    for line in f:\n",
    "        tokens = line.split(\",\")\n",
    "        temp = int(tokens[1])\n",
    "        date = tokens[0]\n",
    "        dict_[date] = temp\n",
    "\n",
    "dict_"
   ]
  },
  {
   "cell_type": "markdown",
   "id": "recent-priest",
   "metadata": {},
   "source": [
    "# Ex 2"
   ]
  },
  {
   "cell_type": "markdown",
   "id": "complete-valley",
   "metadata": {},
   "source": [
    "## What was the temperature on Jan 9?\n"
   ]
  },
  {
   "cell_type": "code",
   "execution_count": 58,
   "id": "combined-intensity",
   "metadata": {},
   "outputs": [
    {
     "data": {
      "text/plain": [
       "35"
      ]
     },
     "execution_count": 58,
     "metadata": {},
     "output_type": "execute_result"
    }
   ],
   "source": [
    "dict_['Jan 9']"
   ]
  },
  {
   "cell_type": "markdown",
   "id": "daily-bronze",
   "metadata": {},
   "source": [
    "## What was the temperature on Jan 4?"
   ]
  },
  {
   "cell_type": "code",
   "execution_count": 59,
   "id": "minus-floating",
   "metadata": {},
   "outputs": [
    {
     "data": {
      "text/plain": [
       "34"
      ]
     },
     "execution_count": 59,
     "metadata": {},
     "output_type": "execute_result"
    }
   ],
   "source": [
    "dict_['Jan 4']"
   ]
  },
  {
   "cell_type": "markdown",
   "id": "japanese-sender",
   "metadata": {},
   "source": [
    "# Ex 3"
   ]
  },
  {
   "cell_type": "code",
   "execution_count": 63,
   "id": "incident-documentary",
   "metadata": {},
   "outputs": [
    {
     "data": {
      "text/plain": [
       "{'Two': 2,\n",
       " 'roads': 2,\n",
       " 'diverged': 2,\n",
       " 'in': 3,\n",
       " 'a': 3,\n",
       " 'yellow': 1,\n",
       " 'wood,': 2,\n",
       " 'And': 6,\n",
       " 'sorry': 1,\n",
       " 'I': 8,\n",
       " 'could': 2,\n",
       " 'not': 1,\n",
       " 'travel': 1,\n",
       " 'both': 2,\n",
       " 'be': 2,\n",
       " 'one': 3,\n",
       " 'traveler,': 1,\n",
       " 'long': 1,\n",
       " 'stood': 1,\n",
       " 'looked': 1,\n",
       " 'down': 1,\n",
       " 'as': 5,\n",
       " 'far': 1,\n",
       " 'To': 1,\n",
       " 'where': 1,\n",
       " 'it': 2,\n",
       " 'bent': 1,\n",
       " 'the': 8,\n",
       " 'undergrowth;': 1,\n",
       " '': 3,\n",
       " 'Then': 1,\n",
       " 'took': 2,\n",
       " 'other,': 1,\n",
       " 'just': 1,\n",
       " 'fair,': 1,\n",
       " 'having': 1,\n",
       " 'perhaps': 1,\n",
       " 'better': 1,\n",
       " 'claim,': 1,\n",
       " 'Because': 1,\n",
       " 'was': 1,\n",
       " 'grassy': 1,\n",
       " 'and': 3,\n",
       " 'wanted': 1,\n",
       " 'wear;': 1,\n",
       " 'Though': 1,\n",
       " 'for': 2,\n",
       " 'that': 3,\n",
       " 'passing': 1,\n",
       " 'there': 1,\n",
       " 'Had': 1,\n",
       " 'worn': 1,\n",
       " 'them': 1,\n",
       " 'really': 1,\n",
       " 'about': 1,\n",
       " 'same,': 1,\n",
       " 'morning': 1,\n",
       " 'equally': 1,\n",
       " 'lay': 1,\n",
       " 'In': 1,\n",
       " 'leaves': 1,\n",
       " 'no': 1,\n",
       " 'step': 1,\n",
       " 'had': 1,\n",
       " 'trodden': 1,\n",
       " 'black.': 1,\n",
       " 'Oh,': 1,\n",
       " 'kept': 1,\n",
       " 'first': 1,\n",
       " 'another': 1,\n",
       " 'day!': 1,\n",
       " 'Yet': 1,\n",
       " 'knowing': 1,\n",
       " 'how': 1,\n",
       " 'way': 1,\n",
       " 'leads': 1,\n",
       " 'on': 1,\n",
       " 'to': 1,\n",
       " 'way,': 1,\n",
       " 'doubted': 1,\n",
       " 'if': 1,\n",
       " 'should': 1,\n",
       " 'ever': 1,\n",
       " 'come': 1,\n",
       " 'back.': 1,\n",
       " 'shall': 1,\n",
       " 'telling': 1,\n",
       " 'this': 1,\n",
       " 'with': 1,\n",
       " 'sigh': 1,\n",
       " 'Somewhere': 1,\n",
       " 'ages': 2,\n",
       " 'hence:': 1,\n",
       " 'I—': 1,\n",
       " 'less': 1,\n",
       " 'traveled': 1,\n",
       " 'by,': 1,\n",
       " 'has': 1,\n",
       " 'made': 1,\n",
       " 'all': 1,\n",
       " 'difference.': 1}"
      ]
     },
     "execution_count": 63,
     "metadata": {},
     "output_type": "execute_result"
    }
   ],
   "source": [
    "path = \"./poem.txt\"\n",
    "word_dict = {}\n",
    "with open(path, \"r\") as f:\n",
    "    for line in f:\n",
    "        for word in line.split(\" \"):\n",
    "            edit = word.replace(\"\\n\", \"\")\n",
    "            if edit in word_dict:\n",
    "                word_dict[edit] += 1\n",
    "            else:\n",
    "                word_dict[edit] = 1\n",
    "\n",
    "word_dict\n",
    "    "
   ]
  },
  {
   "cell_type": "markdown",
   "id": "afraid-cambridge",
   "metadata": {},
   "source": [
    "# Ex 4\n",
    "\n",
    "## Collision Handling with Linear Probing"
   ]
  },
  {
   "cell_type": "code",
   "execution_count": 99,
   "id": "effective-palmer",
   "metadata": {},
   "outputs": [],
   "source": [
    "class HashTable:\n",
    "    def __init__(self):\n",
    "        self.MAX = 10 # 10 slots in the hash table\n",
    "        self.arr = [None for _ in range(self.MAX)]\n",
    "    \n",
    "    def get_hash(self, key):\n",
    "        hash = 0 \n",
    "        for character in key:\n",
    "            hash += ord(character) \n",
    "        return hash % self.MAX\n",
    "    \n",
    "    def __setitem__(self, key, val):\n",
    "        h = self.get_hash(key)\n",
    "        \n",
    "        counter = 0\n",
    "        while counter < self.MAX:\n",
    "            if self.arr[h] is not None and self.arr[h][0]!=key:        \n",
    "                if h < self.MAX:\n",
    "                    h += 1\n",
    "                if h == self.MAX:\n",
    "                    h = 0\n",
    "                counter += 1\n",
    "                continue\n",
    "            else:\n",
    "                self.arr[h] = (key, val)\n",
    "                return \n",
    "\n",
    "        print(\"Hash Table out of space!\")\n",
    "        return \n",
    "                        \n",
    "        \n",
    "    def __getitem__(self, key):\n",
    "        h = self.get_hash(key)\n",
    "        if self.arr[h] is None:\n",
    "            return\n",
    "\n",
    "        counter = 0\n",
    "        while counter < self.MAX:\n",
    "            if self.arr[h][0] == key:\n",
    "                return self.arr[h][1]\n",
    "            else:\n",
    "                if h < self.MAX:\n",
    "                    h += 1\n",
    "                if h == self.MAX:\n",
    "                    h = 0\n",
    "                counter += 1\n",
    "        return \n",
    "                \n",
    "    def __delitem__(self, key):\n",
    "        h = self.get_hash(key)\n",
    "        counter = 0\n",
    "        while counter < self.MAX:\n",
    "            if key == self.arr[h][0]:\n",
    "                del self.arr[h]\n",
    "                return\n",
    "            else:\n",
    "                if h < self.MAX:\n",
    "                    h += 1\n",
    "                if h == self.MAX:\n",
    "                    h = 0\n",
    "                counter += 1\n",
    "        return "
   ]
  },
  {
   "cell_type": "code",
   "execution_count": 100,
   "id": "macro-penetration",
   "metadata": {},
   "outputs": [
    {
     "data": {
      "text/plain": [
       "[None, None, None, None, None, None, None, None, None, None]"
      ]
     },
     "execution_count": 100,
     "metadata": {},
     "output_type": "execute_result"
    }
   ],
   "source": [
    "t = HashTable()\n",
    "t.arr\n"
   ]
  },
  {
   "cell_type": "code",
   "execution_count": 101,
   "id": "honey-divorce",
   "metadata": {},
   "outputs": [],
   "source": [
    "t[\"march 6\"] = 310\n",
    "t[\"march 7\"] = 420\n",
    "t[\"march 8\"] = 67\n",
    "t[\"march 17\"] = 63457\n",
    "t[\"march 17\"] = 6"
   ]
  },
  {
   "cell_type": "code",
   "execution_count": 102,
   "id": "horizontal-gazette",
   "metadata": {},
   "outputs": [
    {
     "data": {
      "text/plain": [
       "[('march 7', 420),\n",
       " ('march 8', 67),\n",
       " ('march 17', 6),\n",
       " None,\n",
       " None,\n",
       " None,\n",
       " None,\n",
       " None,\n",
       " None,\n",
       " ('march 6', 310)]"
      ]
     },
     "execution_count": 102,
     "metadata": {},
     "output_type": "execute_result"
    }
   ],
   "source": [
    "t.arr"
   ]
  },
  {
   "cell_type": "code",
   "execution_count": 103,
   "id": "confidential-reserve",
   "metadata": {},
   "outputs": [
    {
     "data": {
      "text/plain": [
       "310"
      ]
     },
     "execution_count": 103,
     "metadata": {},
     "output_type": "execute_result"
    }
   ],
   "source": [
    "t[\"march 6\"]"
   ]
  },
  {
   "cell_type": "code",
   "execution_count": 104,
   "id": "nuclear-documentation",
   "metadata": {},
   "outputs": [],
   "source": [
    "del t[\"march 6\"]"
   ]
  },
  {
   "cell_type": "code",
   "execution_count": 105,
   "id": "urban-venezuela",
   "metadata": {},
   "outputs": [
    {
     "data": {
      "text/plain": [
       "[('march 7', 420),\n",
       " ('march 8', 67),\n",
       " ('march 17', 6),\n",
       " None,\n",
       " None,\n",
       " None,\n",
       " None,\n",
       " None,\n",
       " None]"
      ]
     },
     "execution_count": 105,
     "metadata": {},
     "output_type": "execute_result"
    }
   ],
   "source": [
    "t.arr"
   ]
  }
 ],
 "metadata": {
  "kernelspec": {
   "display_name": "Python 3",
   "language": "python",
   "name": "python3"
  },
  "language_info": {
   "codemirror_mode": {
    "name": "ipython",
    "version": 3
   },
   "file_extension": ".py",
   "mimetype": "text/x-python",
   "name": "python",
   "nbconvert_exporter": "python",
   "pygments_lexer": "ipython3",
   "version": "3.8.8"
  }
 },
 "nbformat": 4,
 "nbformat_minor": 5
}
