{
 "cells": [
  {
   "cell_type": "markdown",
   "id": "capital-sheriff",
   "metadata": {},
   "source": [
    "# Data Cleaning for Tableau Book Sales Dashboard\n",
    "\n",
    "\n",
    "Book Title and authors from Web Scraping Project: \n",
    "https://github.com/jeffreykktu/data_project/tree/main/Web%20Scraping\n",
    "\n",
    "Final Dashbaord: \n",
    "https://public.tableau.com/profile/jeff.tu6813#!/vizhome/BookSales_16213558667360/BookSalesInsight\n",
    "\n",
    "\n",
    "Objective: \n",
    "- Transform the data with updated books, feature engineered the user_submitted_review to numeric values\n"
   ]
  },
  {
   "cell_type": "code",
   "execution_count": 2,
   "id": "unlikely-lobby",
   "metadata": {},
   "outputs": [],
   "source": [
    "import pandas as pd\n",
    "import numpy as np"
   ]
  },
  {
   "cell_type": "code",
   "execution_count": 4,
   "id": "prostate-castle",
   "metadata": {},
   "outputs": [
    {
     "data": {
      "text/html": [
       "<div>\n",
       "<style scoped>\n",
       "    .dataframe tbody tr th:only-of-type {\n",
       "        vertical-align: middle;\n",
       "    }\n",
       "\n",
       "    .dataframe tbody tr th {\n",
       "        vertical-align: top;\n",
       "    }\n",
       "\n",
       "    .dataframe thead th {\n",
       "        text-align: right;\n",
       "    }\n",
       "</style>\n",
       "<table border=\"1\" class=\"dataframe\">\n",
       "  <thead>\n",
       "    <tr style=\"text-align: right;\">\n",
       "      <th></th>\n",
       "      <th>date</th>\n",
       "      <th>user_submitted_review</th>\n",
       "      <th>title</th>\n",
       "      <th>total_purchased</th>\n",
       "      <th>customer_type</th>\n",
       "    </tr>\n",
       "  </thead>\n",
       "  <tbody>\n",
       "    <tr>\n",
       "      <th>0</th>\n",
       "      <td>2019-05-22</td>\n",
       "      <td>it was okay</td>\n",
       "      <td>Secrets Of R For Advanced Students</td>\n",
       "      <td>7.0</td>\n",
       "      <td>Business</td>\n",
       "    </tr>\n",
       "    <tr>\n",
       "      <th>1</th>\n",
       "      <td>2019-11-16</td>\n",
       "      <td>Awesome!</td>\n",
       "      <td>R For Dummies</td>\n",
       "      <td>3.0</td>\n",
       "      <td>Business</td>\n",
       "    </tr>\n",
       "    <tr>\n",
       "      <th>2</th>\n",
       "      <td>2019-06-27</td>\n",
       "      <td>Awesome!</td>\n",
       "      <td>R For Dummies</td>\n",
       "      <td>1.0</td>\n",
       "      <td>Individual</td>\n",
       "    </tr>\n",
       "    <tr>\n",
       "      <th>3</th>\n",
       "      <td>2019-11-06</td>\n",
       "      <td>Awesome!</td>\n",
       "      <td>Fundamentals of R For Beginners</td>\n",
       "      <td>3.0</td>\n",
       "      <td>Individual</td>\n",
       "    </tr>\n",
       "    <tr>\n",
       "      <th>4</th>\n",
       "      <td>2019-07-18</td>\n",
       "      <td>Hated it</td>\n",
       "      <td>Fundamentals of R For Beginners</td>\n",
       "      <td>NaN</td>\n",
       "      <td>Business</td>\n",
       "    </tr>\n",
       "    <tr>\n",
       "      <th>...</th>\n",
       "      <td>...</td>\n",
       "      <td>...</td>\n",
       "      <td>...</td>\n",
       "      <td>...</td>\n",
       "      <td>...</td>\n",
       "    </tr>\n",
       "    <tr>\n",
       "      <th>4995</th>\n",
       "      <td>2019-04-29</td>\n",
       "      <td>Hated it</td>\n",
       "      <td>Fundamentals of R For Beginners</td>\n",
       "      <td>NaN</td>\n",
       "      <td>Business</td>\n",
       "    </tr>\n",
       "    <tr>\n",
       "      <th>4996</th>\n",
       "      <td>2019-10-31</td>\n",
       "      <td>Never read a better book</td>\n",
       "      <td>R For Dummies</td>\n",
       "      <td>NaN</td>\n",
       "      <td>Business</td>\n",
       "    </tr>\n",
       "    <tr>\n",
       "      <th>4997</th>\n",
       "      <td>2019-10-30</td>\n",
       "      <td>I learned a lot</td>\n",
       "      <td>R For Dummies</td>\n",
       "      <td>4.0</td>\n",
       "      <td>Individual</td>\n",
       "    </tr>\n",
       "    <tr>\n",
       "      <th>4998</th>\n",
       "      <td>2019-08-11</td>\n",
       "      <td>it was okay</td>\n",
       "      <td>Fundamentals of R For Beginners</td>\n",
       "      <td>3.0</td>\n",
       "      <td>Business</td>\n",
       "    </tr>\n",
       "    <tr>\n",
       "      <th>4999</th>\n",
       "      <td>2019-11-07</td>\n",
       "      <td>I learned a lot</td>\n",
       "      <td>Fundamentals of R For Beginners</td>\n",
       "      <td>NaN</td>\n",
       "      <td>Individual</td>\n",
       "    </tr>\n",
       "  </tbody>\n",
       "</table>\n",
       "<p>5000 rows × 5 columns</p>\n",
       "</div>"
      ],
      "text/plain": [
       "            date     user_submitted_review  \\\n",
       "0     2019-05-22               it was okay   \n",
       "1     2019-11-16                  Awesome!   \n",
       "2     2019-06-27                  Awesome!   \n",
       "3     2019-11-06                  Awesome!   \n",
       "4     2019-07-18                  Hated it   \n",
       "...          ...                       ...   \n",
       "4995  2019-04-29                  Hated it   \n",
       "4996  2019-10-31  Never read a better book   \n",
       "4997  2019-10-30           I learned a lot   \n",
       "4998  2019-08-11               it was okay   \n",
       "4999  2019-11-07           I learned a lot   \n",
       "\n",
       "                                   title  total_purchased customer_type  \n",
       "0     Secrets Of R For Advanced Students              7.0      Business  \n",
       "1                          R For Dummies              3.0      Business  \n",
       "2                          R For Dummies              1.0    Individual  \n",
       "3        Fundamentals of R For Beginners              3.0    Individual  \n",
       "4        Fundamentals of R For Beginners              NaN      Business  \n",
       "...                                  ...              ...           ...  \n",
       "4995     Fundamentals of R For Beginners              NaN      Business  \n",
       "4996                       R For Dummies              NaN      Business  \n",
       "4997                       R For Dummies              4.0    Individual  \n",
       "4998     Fundamentals of R For Beginners              3.0      Business  \n",
       "4999     Fundamentals of R For Beginners              NaN    Individual  \n",
       "\n",
       "[5000 rows x 5 columns]"
      ]
     },
     "execution_count": 4,
     "metadata": {},
     "output_type": "execute_result"
    }
   ],
   "source": [
    "df = pd.read_csv(\"./sales_sample_cleaned.csv\")\n",
    "df"
   ]
  },
  {
   "cell_type": "code",
   "execution_count": 5,
   "id": "decreased-transition",
   "metadata": {},
   "outputs": [
    {
     "data": {
      "text/html": [
       "<div>\n",
       "<style scoped>\n",
       "    .dataframe tbody tr th:only-of-type {\n",
       "        vertical-align: middle;\n",
       "    }\n",
       "\n",
       "    .dataframe tbody tr th {\n",
       "        vertical-align: top;\n",
       "    }\n",
       "\n",
       "    .dataframe thead th {\n",
       "        text-align: right;\n",
       "    }\n",
       "</style>\n",
       "<table border=\"1\" class=\"dataframe\">\n",
       "  <thead>\n",
       "    <tr style=\"text-align: right;\">\n",
       "      <th></th>\n",
       "      <th>total_purchased</th>\n",
       "    </tr>\n",
       "  </thead>\n",
       "  <tbody>\n",
       "    <tr>\n",
       "      <th>count</th>\n",
       "      <td>4282.000000</td>\n",
       "    </tr>\n",
       "    <tr>\n",
       "      <th>mean</th>\n",
       "      <td>4.009108</td>\n",
       "    </tr>\n",
       "    <tr>\n",
       "      <th>std</th>\n",
       "      <td>1.995946</td>\n",
       "    </tr>\n",
       "    <tr>\n",
       "      <th>min</th>\n",
       "      <td>0.000000</td>\n",
       "    </tr>\n",
       "    <tr>\n",
       "      <th>25%</th>\n",
       "      <td>3.000000</td>\n",
       "    </tr>\n",
       "    <tr>\n",
       "      <th>50%</th>\n",
       "      <td>4.000000</td>\n",
       "    </tr>\n",
       "    <tr>\n",
       "      <th>75%</th>\n",
       "      <td>5.000000</td>\n",
       "    </tr>\n",
       "    <tr>\n",
       "      <th>max</th>\n",
       "      <td>12.000000</td>\n",
       "    </tr>\n",
       "  </tbody>\n",
       "</table>\n",
       "</div>"
      ],
      "text/plain": [
       "       total_purchased\n",
       "count      4282.000000\n",
       "mean          4.009108\n",
       "std           1.995946\n",
       "min           0.000000\n",
       "25%           3.000000\n",
       "50%           4.000000\n",
       "75%           5.000000\n",
       "max          12.000000"
      ]
     },
     "execution_count": 5,
     "metadata": {},
     "output_type": "execute_result"
    }
   ],
   "source": [
    "df.describe()"
   ]
  },
  {
   "cell_type": "code",
   "execution_count": 6,
   "id": "effective-boost",
   "metadata": {},
   "outputs": [
    {
     "data": {
      "text/plain": [
       "Fundamentals of R For Beginners       1809\n",
       "R For Dummies                         1630\n",
       "R vs Python: An Essay                  771\n",
       "Secrets Of R For Advanced Students     632\n",
       "Top 10 Mistakes R Beginners Make       146\n",
       "R Made Easy                             12\n",
       "Name: title, dtype: int64"
      ]
     },
     "execution_count": 6,
     "metadata": {},
     "output_type": "execute_result"
    }
   ],
   "source": [
    "df.title.value_counts()"
   ]
  },
  {
   "cell_type": "code",
   "execution_count": 7,
   "id": "valid-industry",
   "metadata": {},
   "outputs": [],
   "source": [
    "# change the book names to the updated ones\n",
    "new_books = ['10% Happier', 'The 10X Rule', 'A Technique for Producing Ideas', 'The Art of Profitability', 'The Art of War', 'The Compound Effect']\n",
    "authors = ['Dan Harris', 'Grant Cardone', 'James Webb Young', 'Adrian Slywotzky', 'Sun Tzu', 'Darren Hardy']\n",
    "book_author = {new_books[i]: authors[i] for i in range(len(new_books))}\n",
    "old_titles = list(df.title.unique())\n",
    "\n",
    "for i in range(len(old_titles)):\n",
    "    df.title = df.title.replace(old_titles[i], new_books[i])"
   ]
  },
  {
   "cell_type": "code",
   "execution_count": 8,
   "id": "boolean-outside",
   "metadata": {},
   "outputs": [
    {
     "data": {
      "text/plain": [
       "{'10% Happier': 'Dan Harris',\n",
       " 'The 10X Rule': 'Grant Cardone',\n",
       " 'A Technique for Producing Ideas': 'James Webb Young',\n",
       " 'The Art of Profitability': 'Adrian Slywotzky',\n",
       " 'The Art of War': 'Sun Tzu',\n",
       " 'The Compound Effect': 'Darren Hardy'}"
      ]
     },
     "execution_count": 8,
     "metadata": {},
     "output_type": "execute_result"
    }
   ],
   "source": [
    "book_author"
   ]
  },
  {
   "cell_type": "code",
   "execution_count": 9,
   "id": "lesser-crown",
   "metadata": {},
   "outputs": [],
   "source": [
    "# add an author column\n",
    "df['author'] = df['title'].apply(lambda x: x.replace(x, book_author[x]))"
   ]
  },
  {
   "cell_type": "code",
   "execution_count": 173,
   "id": "intimate-separation",
   "metadata": {},
   "outputs": [
    {
     "data": {
      "text/plain": [
       "['10% Happier',\n",
       " 'The 10X Rule',\n",
       " 'A Technique for Producing Ideas',\n",
       " 'The Art of Profitability',\n",
       " 'The Art of War',\n",
       " 'The Compound Effect']"
      ]
     },
     "execution_count": 173,
     "metadata": {},
     "output_type": "execute_result"
    }
   ],
   "source": [
    "list(df.title.unique())"
   ]
  },
  {
   "cell_type": "code",
   "execution_count": 175,
   "id": "primary-belgium",
   "metadata": {},
   "outputs": [
    {
     "data": {
      "text/plain": [
       "(5000, 6)"
      ]
     },
     "execution_count": 175,
     "metadata": {},
     "output_type": "execute_result"
    }
   ],
   "source": [
    "df.shape"
   ]
  },
  {
   "cell_type": "code",
   "execution_count": 176,
   "id": "worthy-howard",
   "metadata": {},
   "outputs": [],
   "source": [
    "# drop null 'total_purchased'\n",
    "df = df.dropna(subset=['total_purchased'])"
   ]
  },
  {
   "cell_type": "code",
   "execution_count": 177,
   "id": "hundred-publication",
   "metadata": {},
   "outputs": [
    {
     "data": {
      "text/plain": [
       "Business      2938\n",
       "Individual    1344\n",
       "Name: customer_type, dtype: int64"
      ]
     },
     "execution_count": 177,
     "metadata": {},
     "output_type": "execute_result"
    }
   ],
   "source": [
    "# change customer type, and rename to \"distribution_channel\"\n",
    "df.customer_type.value_counts()"
   ]
  },
  {
   "cell_type": "code",
   "execution_count": 178,
   "id": "heated-primary",
   "metadata": {},
   "outputs": [
    {
     "name": "stderr",
     "output_type": "stream",
     "text": [
      "<ipython-input-178-dfcf6423d8e7>:3: SettingWithCopyWarning: \n",
      "A value is trying to be set on a copy of a slice from a DataFrame.\n",
      "Try using .loc[row_indexer,col_indexer] = value instead\n",
      "\n",
      "See the caveats in the documentation: https://pandas.pydata.org/pandas-docs/stable/user_guide/indexing.html#returning-a-view-versus-a-copy\n",
      "  df['customer_type'] = df.customer_type.replace(replace_dict)\n"
     ]
    }
   ],
   "source": [
    "replace_dict = {\"Business\": \"Online\", \"Individual\": \"In-Person\"}\n",
    "df['customer_type'] = df.customer_type.replace(replace_dict)\n",
    "df = df.rename(columns={\"customer_type\": \"distribution_channel\"})"
   ]
  },
  {
   "cell_type": "code",
   "execution_count": 179,
   "id": "appropriate-scheme",
   "metadata": {},
   "outputs": [
    {
     "data": {
      "text/html": [
       "<div>\n",
       "<style scoped>\n",
       "    .dataframe tbody tr th:only-of-type {\n",
       "        vertical-align: middle;\n",
       "    }\n",
       "\n",
       "    .dataframe tbody tr th {\n",
       "        vertical-align: top;\n",
       "    }\n",
       "\n",
       "    .dataframe thead th {\n",
       "        text-align: right;\n",
       "    }\n",
       "</style>\n",
       "<table border=\"1\" class=\"dataframe\">\n",
       "  <thead>\n",
       "    <tr style=\"text-align: right;\">\n",
       "      <th></th>\n",
       "      <th>date</th>\n",
       "      <th>user_submitted_review</th>\n",
       "      <th>title</th>\n",
       "      <th>total_purchased</th>\n",
       "      <th>distribution_channel</th>\n",
       "      <th>author</th>\n",
       "    </tr>\n",
       "  </thead>\n",
       "  <tbody>\n",
       "    <tr>\n",
       "      <th>0</th>\n",
       "      <td>2019-05-22</td>\n",
       "      <td>it was okay</td>\n",
       "      <td>10% Happier</td>\n",
       "      <td>7.0</td>\n",
       "      <td>Online</td>\n",
       "      <td>Dan Harris</td>\n",
       "    </tr>\n",
       "    <tr>\n",
       "      <th>1</th>\n",
       "      <td>2019-11-16</td>\n",
       "      <td>Awesome!</td>\n",
       "      <td>The 10X Rule</td>\n",
       "      <td>3.0</td>\n",
       "      <td>Online</td>\n",
       "      <td>Grant Cardone</td>\n",
       "    </tr>\n",
       "    <tr>\n",
       "      <th>2</th>\n",
       "      <td>2019-06-27</td>\n",
       "      <td>Awesome!</td>\n",
       "      <td>The 10X Rule</td>\n",
       "      <td>1.0</td>\n",
       "      <td>In-Person</td>\n",
       "      <td>Grant Cardone</td>\n",
       "    </tr>\n",
       "    <tr>\n",
       "      <th>3</th>\n",
       "      <td>2019-11-06</td>\n",
       "      <td>Awesome!</td>\n",
       "      <td>A Technique for Producing Ideas</td>\n",
       "      <td>3.0</td>\n",
       "      <td>In-Person</td>\n",
       "      <td>James Webb Young</td>\n",
       "    </tr>\n",
       "    <tr>\n",
       "      <th>5</th>\n",
       "      <td>2019-01-28</td>\n",
       "      <td>Never read a better book</td>\n",
       "      <td>10% Happier</td>\n",
       "      <td>1.0</td>\n",
       "      <td>Online</td>\n",
       "      <td>Dan Harris</td>\n",
       "    </tr>\n",
       "    <tr>\n",
       "      <th>...</th>\n",
       "      <td>...</td>\n",
       "      <td>...</td>\n",
       "      <td>...</td>\n",
       "      <td>...</td>\n",
       "      <td>...</td>\n",
       "      <td>...</td>\n",
       "    </tr>\n",
       "    <tr>\n",
       "      <th>4991</th>\n",
       "      <td>2019-09-16</td>\n",
       "      <td>The author's other books were better</td>\n",
       "      <td>A Technique for Producing Ideas</td>\n",
       "      <td>4.0</td>\n",
       "      <td>In-Person</td>\n",
       "      <td>James Webb Young</td>\n",
       "    </tr>\n",
       "    <tr>\n",
       "      <th>4992</th>\n",
       "      <td>2019-09-07</td>\n",
       "      <td>Awesome!</td>\n",
       "      <td>A Technique for Producing Ideas</td>\n",
       "      <td>1.0</td>\n",
       "      <td>In-Person</td>\n",
       "      <td>James Webb Young</td>\n",
       "    </tr>\n",
       "    <tr>\n",
       "      <th>4993</th>\n",
       "      <td>2019-03-19</td>\n",
       "      <td>A lot of material was not needed</td>\n",
       "      <td>A Technique for Producing Ideas</td>\n",
       "      <td>4.0</td>\n",
       "      <td>Online</td>\n",
       "      <td>James Webb Young</td>\n",
       "    </tr>\n",
       "    <tr>\n",
       "      <th>4997</th>\n",
       "      <td>2019-10-30</td>\n",
       "      <td>I learned a lot</td>\n",
       "      <td>The 10X Rule</td>\n",
       "      <td>4.0</td>\n",
       "      <td>In-Person</td>\n",
       "      <td>Grant Cardone</td>\n",
       "    </tr>\n",
       "    <tr>\n",
       "      <th>4998</th>\n",
       "      <td>2019-08-11</td>\n",
       "      <td>it was okay</td>\n",
       "      <td>A Technique for Producing Ideas</td>\n",
       "      <td>3.0</td>\n",
       "      <td>Online</td>\n",
       "      <td>James Webb Young</td>\n",
       "    </tr>\n",
       "  </tbody>\n",
       "</table>\n",
       "<p>4282 rows × 6 columns</p>\n",
       "</div>"
      ],
      "text/plain": [
       "            date                 user_submitted_review  \\\n",
       "0     2019-05-22                           it was okay   \n",
       "1     2019-11-16                              Awesome!   \n",
       "2     2019-06-27                              Awesome!   \n",
       "3     2019-11-06                              Awesome!   \n",
       "5     2019-01-28              Never read a better book   \n",
       "...          ...                                   ...   \n",
       "4991  2019-09-16  The author's other books were better   \n",
       "4992  2019-09-07                              Awesome!   \n",
       "4993  2019-03-19      A lot of material was not needed   \n",
       "4997  2019-10-30                       I learned a lot   \n",
       "4998  2019-08-11                           it was okay   \n",
       "\n",
       "                                title  total_purchased distribution_channel  \\\n",
       "0                         10% Happier              7.0               Online   \n",
       "1                        The 10X Rule              3.0               Online   \n",
       "2                        The 10X Rule              1.0            In-Person   \n",
       "3     A Technique for Producing Ideas              3.0            In-Person   \n",
       "5                         10% Happier              1.0               Online   \n",
       "...                               ...              ...                  ...   \n",
       "4991  A Technique for Producing Ideas              4.0            In-Person   \n",
       "4992  A Technique for Producing Ideas              1.0            In-Person   \n",
       "4993  A Technique for Producing Ideas              4.0               Online   \n",
       "4997                     The 10X Rule              4.0            In-Person   \n",
       "4998  A Technique for Producing Ideas              3.0               Online   \n",
       "\n",
       "                author  \n",
       "0           Dan Harris  \n",
       "1        Grant Cardone  \n",
       "2        Grant Cardone  \n",
       "3     James Webb Young  \n",
       "5           Dan Harris  \n",
       "...                ...  \n",
       "4991  James Webb Young  \n",
       "4992  James Webb Young  \n",
       "4993  James Webb Young  \n",
       "4997     Grant Cardone  \n",
       "4998  James Webb Young  \n",
       "\n",
       "[4282 rows x 6 columns]"
      ]
     },
     "execution_count": 179,
     "metadata": {},
     "output_type": "execute_result"
    }
   ],
   "source": [
    "df"
   ]
  },
  {
   "cell_type": "code",
   "execution_count": 180,
   "id": "filled-series",
   "metadata": {},
   "outputs": [
    {
     "data": {
      "text/plain": [
       "Would not recommend                     417\n",
       "Hated it                                403\n",
       "it was okay                             399\n",
       "The author's other books were better    396\n",
       "OK                                      394\n",
       "I learned a lot                         390\n",
       "Awesome!                                387\n",
       "Never read a better book                376\n",
       "A lot of material was not needed        370\n",
       "Name: user_submitted_review, dtype: int64"
      ]
     },
     "execution_count": 180,
     "metadata": {},
     "output_type": "execute_result"
    }
   ],
   "source": [
    "# Change user_submitted_review to number ratings\n",
    "df.user_submitted_review.value_counts()"
   ]
  },
  {
   "cell_type": "markdown",
   "id": "vocal-location",
   "metadata": {},
   "source": [
    "## Assuming the following rating system, 5 is the best rating:\n",
    "\n",
    "5: 'awesome!', 'never read a better book', 'i learned a lot'\n",
    "\n",
    "4: 'it was okay','ok'\n",
    "\n",
    "3: \"the author's other books were better\", 'a lot of material was not needed\n",
    "\n",
    "2: \"would not recommend\"\n",
    "\n",
    "1: \"hated it\""
   ]
  },
  {
   "cell_type": "code",
   "execution_count": 181,
   "id": "median-niagara",
   "metadata": {},
   "outputs": [
    {
     "data": {
      "text/plain": [
       "['it was okay',\n",
       " 'Awesome!',\n",
       " 'Never read a better book',\n",
       " 'Hated it',\n",
       " 'OK',\n",
       " \"The author's other books were better\",\n",
       " 'A lot of material was not needed',\n",
       " 'Would not recommend',\n",
       " 'I learned a lot']"
      ]
     },
     "execution_count": 181,
     "metadata": {},
     "output_type": "execute_result"
    }
   ],
   "source": [
    "old_rating_list = list(df.user_submitted_review.unique())\n",
    "old_rating_list.remove(np.nan)\n",
    "old_rating_list"
   ]
  },
  {
   "cell_type": "code",
   "execution_count": 182,
   "id": "adjustable-melissa",
   "metadata": {},
   "outputs": [
    {
     "data": {
      "text/plain": [
       "{'it was okay': 4,\n",
       " 'Awesome!': 5,\n",
       " 'Never read a better book': 5,\n",
       " 'Hated it': 1,\n",
       " 'OK': 4,\n",
       " \"The author's other books were better\": 3,\n",
       " 'A lot of material was not needed': 3,\n",
       " 'Would not recommend': 2,\n",
       " 'I learned a lot': 5}"
      ]
     },
     "execution_count": 182,
     "metadata": {},
     "output_type": "execute_result"
    }
   ],
   "source": [
    "rating_dict = {}\n",
    "for old_rate in old_rating_list:\n",
    "    if old_rate.lower() in ['awesome!', 'never read a better book', 'i learned a lot']:\n",
    "        rating_dict[old_rate] = 5\n",
    "    if old_rate.lower() in ['it was okay','ok']:\n",
    "        rating_dict[old_rate] = 4\n",
    "    if old_rate.lower() in [\"the author's other books were better\", 'a lot of material was not needed']:\n",
    "        rating_dict[old_rate] = 3\n",
    "    if old_rate.lower() in ['would not recommend']:\n",
    "        rating_dict[old_rate] = 2\n",
    "    if old_rate.lower() in [\"hated it\"]:\n",
    "        rating_dict[old_rate] = 1\n",
    "\n",
    "rating_dict"
   ]
  },
  {
   "cell_type": "code",
   "execution_count": 183,
   "id": "starting-thumb",
   "metadata": {},
   "outputs": [],
   "source": [
    "df.user_submitted_review = df.user_submitted_review.replace(rating_dict)"
   ]
  },
  {
   "cell_type": "code",
   "execution_count": 184,
   "id": "palestinian-rapid",
   "metadata": {},
   "outputs": [],
   "source": [
    "df.reset_index(inplace=True)"
   ]
  },
  {
   "cell_type": "code",
   "execution_count": 186,
   "id": "infectious-negative",
   "metadata": {},
   "outputs": [
    {
     "data": {
      "text/html": [
       "<div>\n",
       "<style scoped>\n",
       "    .dataframe tbody tr th:only-of-type {\n",
       "        vertical-align: middle;\n",
       "    }\n",
       "\n",
       "    .dataframe tbody tr th {\n",
       "        vertical-align: top;\n",
       "    }\n",
       "\n",
       "    .dataframe thead th {\n",
       "        text-align: right;\n",
       "    }\n",
       "</style>\n",
       "<table border=\"1\" class=\"dataframe\">\n",
       "  <thead>\n",
       "    <tr style=\"text-align: right;\">\n",
       "      <th></th>\n",
       "      <th>date</th>\n",
       "      <th>user_submitted_review</th>\n",
       "      <th>title</th>\n",
       "      <th>total_purchased</th>\n",
       "      <th>distribution_channel</th>\n",
       "      <th>author</th>\n",
       "    </tr>\n",
       "  </thead>\n",
       "  <tbody>\n",
       "    <tr>\n",
       "      <th>0</th>\n",
       "      <td>2019-05-22</td>\n",
       "      <td>4.0</td>\n",
       "      <td>10% Happier</td>\n",
       "      <td>7.0</td>\n",
       "      <td>Online</td>\n",
       "      <td>Dan Harris</td>\n",
       "    </tr>\n",
       "    <tr>\n",
       "      <th>1</th>\n",
       "      <td>2019-11-16</td>\n",
       "      <td>5.0</td>\n",
       "      <td>The 10X Rule</td>\n",
       "      <td>3.0</td>\n",
       "      <td>Online</td>\n",
       "      <td>Grant Cardone</td>\n",
       "    </tr>\n",
       "    <tr>\n",
       "      <th>2</th>\n",
       "      <td>2019-06-27</td>\n",
       "      <td>5.0</td>\n",
       "      <td>The 10X Rule</td>\n",
       "      <td>1.0</td>\n",
       "      <td>In-Person</td>\n",
       "      <td>Grant Cardone</td>\n",
       "    </tr>\n",
       "    <tr>\n",
       "      <th>3</th>\n",
       "      <td>2019-11-06</td>\n",
       "      <td>5.0</td>\n",
       "      <td>A Technique for Producing Ideas</td>\n",
       "      <td>3.0</td>\n",
       "      <td>In-Person</td>\n",
       "      <td>James Webb Young</td>\n",
       "    </tr>\n",
       "    <tr>\n",
       "      <th>4</th>\n",
       "      <td>2019-01-28</td>\n",
       "      <td>5.0</td>\n",
       "      <td>10% Happier</td>\n",
       "      <td>1.0</td>\n",
       "      <td>Online</td>\n",
       "      <td>Dan Harris</td>\n",
       "    </tr>\n",
       "    <tr>\n",
       "      <th>...</th>\n",
       "      <td>...</td>\n",
       "      <td>...</td>\n",
       "      <td>...</td>\n",
       "      <td>...</td>\n",
       "      <td>...</td>\n",
       "      <td>...</td>\n",
       "    </tr>\n",
       "    <tr>\n",
       "      <th>4277</th>\n",
       "      <td>2019-09-16</td>\n",
       "      <td>3.0</td>\n",
       "      <td>A Technique for Producing Ideas</td>\n",
       "      <td>4.0</td>\n",
       "      <td>In-Person</td>\n",
       "      <td>James Webb Young</td>\n",
       "    </tr>\n",
       "    <tr>\n",
       "      <th>4278</th>\n",
       "      <td>2019-09-07</td>\n",
       "      <td>5.0</td>\n",
       "      <td>A Technique for Producing Ideas</td>\n",
       "      <td>1.0</td>\n",
       "      <td>In-Person</td>\n",
       "      <td>James Webb Young</td>\n",
       "    </tr>\n",
       "    <tr>\n",
       "      <th>4279</th>\n",
       "      <td>2019-03-19</td>\n",
       "      <td>3.0</td>\n",
       "      <td>A Technique for Producing Ideas</td>\n",
       "      <td>4.0</td>\n",
       "      <td>Online</td>\n",
       "      <td>James Webb Young</td>\n",
       "    </tr>\n",
       "    <tr>\n",
       "      <th>4280</th>\n",
       "      <td>2019-10-30</td>\n",
       "      <td>5.0</td>\n",
       "      <td>The 10X Rule</td>\n",
       "      <td>4.0</td>\n",
       "      <td>In-Person</td>\n",
       "      <td>Grant Cardone</td>\n",
       "    </tr>\n",
       "    <tr>\n",
       "      <th>4281</th>\n",
       "      <td>2019-08-11</td>\n",
       "      <td>4.0</td>\n",
       "      <td>A Technique for Producing Ideas</td>\n",
       "      <td>3.0</td>\n",
       "      <td>Online</td>\n",
       "      <td>James Webb Young</td>\n",
       "    </tr>\n",
       "  </tbody>\n",
       "</table>\n",
       "<p>4282 rows × 6 columns</p>\n",
       "</div>"
      ],
      "text/plain": [
       "            date  user_submitted_review                            title  \\\n",
       "0     2019-05-22                    4.0                      10% Happier   \n",
       "1     2019-11-16                    5.0                     The 10X Rule   \n",
       "2     2019-06-27                    5.0                     The 10X Rule   \n",
       "3     2019-11-06                    5.0  A Technique for Producing Ideas   \n",
       "4     2019-01-28                    5.0                      10% Happier   \n",
       "...          ...                    ...                              ...   \n",
       "4277  2019-09-16                    3.0  A Technique for Producing Ideas   \n",
       "4278  2019-09-07                    5.0  A Technique for Producing Ideas   \n",
       "4279  2019-03-19                    3.0  A Technique for Producing Ideas   \n",
       "4280  2019-10-30                    5.0                     The 10X Rule   \n",
       "4281  2019-08-11                    4.0  A Technique for Producing Ideas   \n",
       "\n",
       "      total_purchased distribution_channel            author  \n",
       "0                 7.0               Online        Dan Harris  \n",
       "1                 3.0               Online     Grant Cardone  \n",
       "2                 1.0            In-Person     Grant Cardone  \n",
       "3                 3.0            In-Person  James Webb Young  \n",
       "4                 1.0               Online        Dan Harris  \n",
       "...               ...                  ...               ...  \n",
       "4277              4.0            In-Person  James Webb Young  \n",
       "4278              1.0            In-Person  James Webb Young  \n",
       "4279              4.0               Online  James Webb Young  \n",
       "4280              4.0            In-Person     Grant Cardone  \n",
       "4281              3.0               Online  James Webb Young  \n",
       "\n",
       "[4282 rows x 6 columns]"
      ]
     },
     "execution_count": 186,
     "metadata": {},
     "output_type": "execute_result"
    }
   ],
   "source": [
    "df.drop('index', axis='columns')"
   ]
  },
  {
   "cell_type": "code",
   "execution_count": 1,
   "id": "weekly-trade",
   "metadata": {},
   "outputs": [
    {
     "ename": "NameError",
     "evalue": "name 'df' is not defined",
     "output_type": "error",
     "traceback": [
      "\u001b[0;31m---------------------------------------------------------------------------\u001b[0m",
      "\u001b[0;31mNameError\u001b[0m                                 Traceback (most recent call last)",
      "\u001b[0;32m<ipython-input-1-00cf07b74dcd>\u001b[0m in \u001b[0;36m<module>\u001b[0;34m\u001b[0m\n\u001b[0;32m----> 1\u001b[0;31m \u001b[0mdf\u001b[0m\u001b[0;34m\u001b[0m\u001b[0;34m\u001b[0m\u001b[0m\n\u001b[0m",
      "\u001b[0;31mNameError\u001b[0m: name 'df' is not defined"
     ]
    }
   ],
   "source": [
    "df"
   ]
  },
  {
   "cell_type": "code",
   "execution_count": 191,
   "id": "lyric-suggestion",
   "metadata": {},
   "outputs": [],
   "source": [
    "df.to_csv('./book_sales_cleaned_v2.csv', index=False)"
   ]
  },
  {
   "cell_type": "code",
   "execution_count": null,
   "id": "lesser-nation",
   "metadata": {},
   "outputs": [],
   "source": []
  }
 ],
 "metadata": {
  "kernelspec": {
   "display_name": "Python 3",
   "language": "python",
   "name": "python3"
  },
  "language_info": {
   "codemirror_mode": {
    "name": "ipython",
    "version": 3
   },
   "file_extension": ".py",
   "mimetype": "text/x-python",
   "name": "python",
   "nbconvert_exporter": "python",
   "pygments_lexer": "ipython3",
   "version": "3.8.8"
  }
 },
 "nbformat": 4,
 "nbformat_minor": 5
}
